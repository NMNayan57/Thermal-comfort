{
  "cells": [
    {
      "cell_type": "markdown",
      "source": [
        "1. 7 TA COUNTRY\n",
        "2. FILL NAN = BACKWARD\n",
        "3. SMOTE USE:\n",
        "\n"
      ],
      "metadata": {
        "id": "eUhhl-3r7V-b"
      },
      "id": "eUhhl-3r7V-b"
    },
    {
      "cell_type": "code",
      "execution_count": null,
      "id": "efe08bdf",
      "metadata": {
        "execution": {
          "iopub.execute_input": "2023-10-15T17:05:02.784634Z",
          "iopub.status.busy": "2023-10-15T17:05:02.784202Z",
          "iopub.status.idle": "2023-10-15T17:05:04.685724Z",
          "shell.execute_reply": "2023-10-15T17:05:04.684622Z"
        },
        "papermill": {
          "duration": 1.918625,
          "end_time": "2023-10-15T17:05:04.688287",
          "exception": false,
          "start_time": "2023-10-15T17:05:02.769662",
          "status": "completed"
        },
        "tags": [],
        "id": "efe08bdf"
      },
      "outputs": [],
      "source": [
        "import numpy as np\n",
        "import pandas as pd\n",
        "import matplotlib.pyplot as plt\n",
        "import sklearn\n",
        "from sklearn.model_selection import train_test_split #splitting the data\n",
        "from sklearn.ensemble import RandomForestClassifier #Classification using randomforest\n",
        "from sklearn.metrics import confusion_matrix # mapping the true and false points\n",
        "from sklearn.metrics import accuracy_score\n",
        "from sklearn.naive_bayes import GaussianNB\n",
        "from sklearn.ensemble import BaggingClassifier\n",
        "from collections import Counter"
      ]
    },
    {
      "cell_type": "code",
      "source": [
        "from google.colab import drive\n",
        "drive.mount('/content/drive')"
      ],
      "metadata": {
        "colab": {
          "base_uri": "https://localhost:8080/"
        },
        "id": "jqcVi0FtBF9J",
        "outputId": "f5ce5def-80a3-430f-f6e1-5369b599f821"
      },
      "id": "jqcVi0FtBF9J",
      "execution_count": null,
      "outputs": [
        {
          "output_type": "stream",
          "name": "stdout",
          "text": [
            "Drive already mounted at /content/drive; to attempt to forcibly remount, call drive.mount(\"/content/drive\", force_remount=True).\n"
          ]
        }
      ]
    },
    {
      "cell_type": "markdown",
      "id": "0b83efe6",
      "metadata": {
        "papermill": {
          "duration": 0.012052,
          "end_time": "2023-10-15T17:05:04.711702",
          "exception": false,
          "start_time": "2023-10-15T17:05:04.699650",
          "status": "completed"
        },
        "tags": [],
        "id": "0b83efe6"
      },
      "source": [
        "# # Reading Data"
      ]
    },
    {
      "cell_type": "code",
      "execution_count": null,
      "id": "d0c968f2",
      "metadata": {
        "execution": {
          "iopub.execute_input": "2023-10-15T17:05:04.735513Z",
          "iopub.status.busy": "2023-10-15T17:05:04.734651Z",
          "iopub.status.idle": "2023-10-15T17:05:06.301550Z",
          "shell.execute_reply": "2023-10-15T17:05:06.300395Z"
        },
        "papermill": {
          "duration": 1.58186,
          "end_time": "2023-10-15T17:05:06.304656",
          "exception": false,
          "start_time": "2023-10-15T17:05:04.722796",
          "status": "completed"
        },
        "tags": [],
        "id": "d0c968f2",
        "colab": {
          "base_uri": "https://localhost:8080/"
        },
        "outputId": "c9d12966-2554-4705-9fd6-b3ec9bb356c2"
      },
      "outputs": [
        {
          "output_type": "stream",
          "name": "stderr",
          "text": [
            "<ipython-input-8-71279aac620b>:2: DtypeWarning: Columns (10,11,13,18,19,34,50) have mixed types. Specify dtype option on import or set low_memory=False.\n",
            "  df = pd.read_csv(\"/content/drive/MyDrive/Thermal comfort -2nd /ashrae_db2.01 (2).csv\")\n"
          ]
        }
      ],
      "source": [
        "# Reading data from ASHRAE thermal dataset 2.\n",
        "df = pd.read_csv(\"/content/drive/MyDrive/Thermal comfort -2nd /ashrae_db2.01 (2).csv\")"
      ]
    },
    {
      "cell_type": "code",
      "execution_count": null,
      "id": "cfa4924b",
      "metadata": {
        "execution": {
          "iopub.execute_input": "2023-10-15T17:05:06.327632Z",
          "iopub.status.busy": "2023-10-15T17:05:06.327226Z",
          "iopub.status.idle": "2023-10-15T17:05:06.366068Z",
          "shell.execute_reply": "2023-10-15T17:05:06.364726Z"
        },
        "papermill": {
          "duration": 0.053402,
          "end_time": "2023-10-15T17:05:06.368744",
          "exception": false,
          "start_time": "2023-10-15T17:05:06.315342",
          "status": "completed"
        },
        "tags": [],
        "id": "cfa4924b",
        "outputId": "76e8fa9b-4c09-45f1-dfca-6c21d1609502",
        "colab": {
          "base_uri": "https://localhost:8080/",
          "height": 654
        }
      },
      "outputs": [
        {
          "output_type": "execute_result",
          "data": {
            "text/plain": [
              "                              Publication (Citation) Data contributor    Year  \\\n",
              "0  Kwok, Alison G., and Chungyoon Chun. \"Thermal ...      Kwok Alison  2000.0   \n",
              "1  Kwok, Alison G., and Chungyoon Chun. \"Thermal ...      Kwok Alison  2000.0   \n",
              "2  Kwok, Alison G., and Chungyoon Chun. \"Thermal ...      Kwok Alison  2000.0   \n",
              "3  Kwok, Alison G., and Chungyoon Chun. \"Thermal ...      Kwok Alison  2000.0   \n",
              "4  Kwok, Alison G., and Chungyoon Chun. \"Thermal ...      Kwok Alison  2000.0   \n",
              "\n",
              "   Season Koppen climate classification            Climate   City Country  \\\n",
              "0  Summer                           Cfa  Humid subtropical  Tokyo   Japan   \n",
              "1  Summer                           Cfa  Humid subtropical  Tokyo   Japan   \n",
              "2  Summer                           Cfa  Humid subtropical  Tokyo   Japan   \n",
              "3  Summer                           Cfa  Humid subtropical  Tokyo   Japan   \n",
              "4  Summer                           Cfa  Humid subtropical  Tokyo   Japan   \n",
              "\n",
              "  Building type Cooling startegy_building level  ... Subject«s height (cm)  \\\n",
              "0     Classroom                 Air Conditioned  ...                 162.0   \n",
              "1     Classroom                 Air Conditioned  ...                 154.0   \n",
              "2     Classroom                 Air Conditioned  ...                 173.0   \n",
              "3     Classroom                 Air Conditioned  ...                 167.0   \n",
              "4     Classroom                 Air Conditioned  ...                 178.0   \n",
              "\n",
              "  Subject«s weight (kg)  Blind (curtain) Fan  Window  Door Heater  \\\n",
              "0                   NaN              NaN NaN     NaN   NaN    NaN   \n",
              "1                   NaN              NaN NaN     NaN   NaN    NaN   \n",
              "2                   NaN              NaN NaN     NaN   NaN    NaN   \n",
              "3                   NaN              NaN NaN     NaN   NaN    NaN   \n",
              "4                   NaN              NaN NaN     NaN   NaN    NaN   \n",
              "\n",
              "   Outdoor monthly air temperature (C) Outdoor monthly air temperature (F)  \\\n",
              "0                                 25.0                                77.0   \n",
              "1                                 25.0                                77.0   \n",
              "2                                 25.0                                77.0   \n",
              "3                                 25.0                                77.0   \n",
              "4                                 25.0                                77.0   \n",
              "\n",
              "     Database  \n",
              "0  Database 2  \n",
              "1  Database 2  \n",
              "2  Database 2  \n",
              "3  Database 2  \n",
              "4  Database 2  \n",
              "\n",
              "[5 rows x 70 columns]"
            ],
            "text/html": [
              "\n",
              "  <div id=\"df-5c5d5ec3-2635-4075-92a0-14a972ef1d49\" class=\"colab-df-container\">\n",
              "    <div>\n",
              "<style scoped>\n",
              "    .dataframe tbody tr th:only-of-type {\n",
              "        vertical-align: middle;\n",
              "    }\n",
              "\n",
              "    .dataframe tbody tr th {\n",
              "        vertical-align: top;\n",
              "    }\n",
              "\n",
              "    .dataframe thead th {\n",
              "        text-align: right;\n",
              "    }\n",
              "</style>\n",
              "<table border=\"1\" class=\"dataframe\">\n",
              "  <thead>\n",
              "    <tr style=\"text-align: right;\">\n",
              "      <th></th>\n",
              "      <th>Publication (Citation)</th>\n",
              "      <th>Data contributor</th>\n",
              "      <th>Year</th>\n",
              "      <th>Season</th>\n",
              "      <th>Koppen climate classification</th>\n",
              "      <th>Climate</th>\n",
              "      <th>City</th>\n",
              "      <th>Country</th>\n",
              "      <th>Building type</th>\n",
              "      <th>Cooling startegy_building level</th>\n",
              "      <th>...</th>\n",
              "      <th>Subject«s height (cm)</th>\n",
              "      <th>Subject«s weight (kg)</th>\n",
              "      <th>Blind (curtain)</th>\n",
              "      <th>Fan</th>\n",
              "      <th>Window</th>\n",
              "      <th>Door</th>\n",
              "      <th>Heater</th>\n",
              "      <th>Outdoor monthly air temperature (C)</th>\n",
              "      <th>Outdoor monthly air temperature (F)</th>\n",
              "      <th>Database</th>\n",
              "    </tr>\n",
              "  </thead>\n",
              "  <tbody>\n",
              "    <tr>\n",
              "      <th>0</th>\n",
              "      <td>Kwok, Alison G., and Chungyoon Chun. \"Thermal ...</td>\n",
              "      <td>Kwok Alison</td>\n",
              "      <td>2000.0</td>\n",
              "      <td>Summer</td>\n",
              "      <td>Cfa</td>\n",
              "      <td>Humid subtropical</td>\n",
              "      <td>Tokyo</td>\n",
              "      <td>Japan</td>\n",
              "      <td>Classroom</td>\n",
              "      <td>Air Conditioned</td>\n",
              "      <td>...</td>\n",
              "      <td>162.0</td>\n",
              "      <td>NaN</td>\n",
              "      <td>NaN</td>\n",
              "      <td>NaN</td>\n",
              "      <td>NaN</td>\n",
              "      <td>NaN</td>\n",
              "      <td>NaN</td>\n",
              "      <td>25.0</td>\n",
              "      <td>77.0</td>\n",
              "      <td>Database 2</td>\n",
              "    </tr>\n",
              "    <tr>\n",
              "      <th>1</th>\n",
              "      <td>Kwok, Alison G., and Chungyoon Chun. \"Thermal ...</td>\n",
              "      <td>Kwok Alison</td>\n",
              "      <td>2000.0</td>\n",
              "      <td>Summer</td>\n",
              "      <td>Cfa</td>\n",
              "      <td>Humid subtropical</td>\n",
              "      <td>Tokyo</td>\n",
              "      <td>Japan</td>\n",
              "      <td>Classroom</td>\n",
              "      <td>Air Conditioned</td>\n",
              "      <td>...</td>\n",
              "      <td>154.0</td>\n",
              "      <td>NaN</td>\n",
              "      <td>NaN</td>\n",
              "      <td>NaN</td>\n",
              "      <td>NaN</td>\n",
              "      <td>NaN</td>\n",
              "      <td>NaN</td>\n",
              "      <td>25.0</td>\n",
              "      <td>77.0</td>\n",
              "      <td>Database 2</td>\n",
              "    </tr>\n",
              "    <tr>\n",
              "      <th>2</th>\n",
              "      <td>Kwok, Alison G., and Chungyoon Chun. \"Thermal ...</td>\n",
              "      <td>Kwok Alison</td>\n",
              "      <td>2000.0</td>\n",
              "      <td>Summer</td>\n",
              "      <td>Cfa</td>\n",
              "      <td>Humid subtropical</td>\n",
              "      <td>Tokyo</td>\n",
              "      <td>Japan</td>\n",
              "      <td>Classroom</td>\n",
              "      <td>Air Conditioned</td>\n",
              "      <td>...</td>\n",
              "      <td>173.0</td>\n",
              "      <td>NaN</td>\n",
              "      <td>NaN</td>\n",
              "      <td>NaN</td>\n",
              "      <td>NaN</td>\n",
              "      <td>NaN</td>\n",
              "      <td>NaN</td>\n",
              "      <td>25.0</td>\n",
              "      <td>77.0</td>\n",
              "      <td>Database 2</td>\n",
              "    </tr>\n",
              "    <tr>\n",
              "      <th>3</th>\n",
              "      <td>Kwok, Alison G., and Chungyoon Chun. \"Thermal ...</td>\n",
              "      <td>Kwok Alison</td>\n",
              "      <td>2000.0</td>\n",
              "      <td>Summer</td>\n",
              "      <td>Cfa</td>\n",
              "      <td>Humid subtropical</td>\n",
              "      <td>Tokyo</td>\n",
              "      <td>Japan</td>\n",
              "      <td>Classroom</td>\n",
              "      <td>Air Conditioned</td>\n",
              "      <td>...</td>\n",
              "      <td>167.0</td>\n",
              "      <td>NaN</td>\n",
              "      <td>NaN</td>\n",
              "      <td>NaN</td>\n",
              "      <td>NaN</td>\n",
              "      <td>NaN</td>\n",
              "      <td>NaN</td>\n",
              "      <td>25.0</td>\n",
              "      <td>77.0</td>\n",
              "      <td>Database 2</td>\n",
              "    </tr>\n",
              "    <tr>\n",
              "      <th>4</th>\n",
              "      <td>Kwok, Alison G., and Chungyoon Chun. \"Thermal ...</td>\n",
              "      <td>Kwok Alison</td>\n",
              "      <td>2000.0</td>\n",
              "      <td>Summer</td>\n",
              "      <td>Cfa</td>\n",
              "      <td>Humid subtropical</td>\n",
              "      <td>Tokyo</td>\n",
              "      <td>Japan</td>\n",
              "      <td>Classroom</td>\n",
              "      <td>Air Conditioned</td>\n",
              "      <td>...</td>\n",
              "      <td>178.0</td>\n",
              "      <td>NaN</td>\n",
              "      <td>NaN</td>\n",
              "      <td>NaN</td>\n",
              "      <td>NaN</td>\n",
              "      <td>NaN</td>\n",
              "      <td>NaN</td>\n",
              "      <td>25.0</td>\n",
              "      <td>77.0</td>\n",
              "      <td>Database 2</td>\n",
              "    </tr>\n",
              "  </tbody>\n",
              "</table>\n",
              "<p>5 rows × 70 columns</p>\n",
              "</div>\n",
              "    <div class=\"colab-df-buttons\">\n",
              "\n",
              "  <div class=\"colab-df-container\">\n",
              "    <button class=\"colab-df-convert\" onclick=\"convertToInteractive('df-5c5d5ec3-2635-4075-92a0-14a972ef1d49')\"\n",
              "            title=\"Convert this dataframe to an interactive table.\"\n",
              "            style=\"display:none;\">\n",
              "\n",
              "  <svg xmlns=\"http://www.w3.org/2000/svg\" height=\"24px\" viewBox=\"0 -960 960 960\">\n",
              "    <path d=\"M120-120v-720h720v720H120Zm60-500h600v-160H180v160Zm220 220h160v-160H400v160Zm0 220h160v-160H400v160ZM180-400h160v-160H180v160Zm440 0h160v-160H620v160ZM180-180h160v-160H180v160Zm440 0h160v-160H620v160Z\"/>\n",
              "  </svg>\n",
              "    </button>\n",
              "\n",
              "  <style>\n",
              "    .colab-df-container {\n",
              "      display:flex;\n",
              "      gap: 12px;\n",
              "    }\n",
              "\n",
              "    .colab-df-convert {\n",
              "      background-color: #E8F0FE;\n",
              "      border: none;\n",
              "      border-radius: 50%;\n",
              "      cursor: pointer;\n",
              "      display: none;\n",
              "      fill: #1967D2;\n",
              "      height: 32px;\n",
              "      padding: 0 0 0 0;\n",
              "      width: 32px;\n",
              "    }\n",
              "\n",
              "    .colab-df-convert:hover {\n",
              "      background-color: #E2EBFA;\n",
              "      box-shadow: 0px 1px 2px rgba(60, 64, 67, 0.3), 0px 1px 3px 1px rgba(60, 64, 67, 0.15);\n",
              "      fill: #174EA6;\n",
              "    }\n",
              "\n",
              "    .colab-df-buttons div {\n",
              "      margin-bottom: 4px;\n",
              "    }\n",
              "\n",
              "    [theme=dark] .colab-df-convert {\n",
              "      background-color: #3B4455;\n",
              "      fill: #D2E3FC;\n",
              "    }\n",
              "\n",
              "    [theme=dark] .colab-df-convert:hover {\n",
              "      background-color: #434B5C;\n",
              "      box-shadow: 0px 1px 3px 1px rgba(0, 0, 0, 0.15);\n",
              "      filter: drop-shadow(0px 1px 2px rgba(0, 0, 0, 0.3));\n",
              "      fill: #FFFFFF;\n",
              "    }\n",
              "  </style>\n",
              "\n",
              "    <script>\n",
              "      const buttonEl =\n",
              "        document.querySelector('#df-5c5d5ec3-2635-4075-92a0-14a972ef1d49 button.colab-df-convert');\n",
              "      buttonEl.style.display =\n",
              "        google.colab.kernel.accessAllowed ? 'block' : 'none';\n",
              "\n",
              "      async function convertToInteractive(key) {\n",
              "        const element = document.querySelector('#df-5c5d5ec3-2635-4075-92a0-14a972ef1d49');\n",
              "        const dataTable =\n",
              "          await google.colab.kernel.invokeFunction('convertToInteractive',\n",
              "                                                    [key], {});\n",
              "        if (!dataTable) return;\n",
              "\n",
              "        const docLinkHtml = 'Like what you see? Visit the ' +\n",
              "          '<a target=\"_blank\" href=https://colab.research.google.com/notebooks/data_table.ipynb>data table notebook</a>'\n",
              "          + ' to learn more about interactive tables.';\n",
              "        element.innerHTML = '';\n",
              "        dataTable['output_type'] = 'display_data';\n",
              "        await google.colab.output.renderOutput(dataTable, element);\n",
              "        const docLink = document.createElement('div');\n",
              "        docLink.innerHTML = docLinkHtml;\n",
              "        element.appendChild(docLink);\n",
              "      }\n",
              "    </script>\n",
              "  </div>\n",
              "\n",
              "\n",
              "<div id=\"df-7be81998-d2f5-428e-b8ef-af67f3d73d3b\">\n",
              "  <button class=\"colab-df-quickchart\" onclick=\"quickchart('df-7be81998-d2f5-428e-b8ef-af67f3d73d3b')\"\n",
              "            title=\"Suggest charts\"\n",
              "            style=\"display:none;\">\n",
              "\n",
              "<svg xmlns=\"http://www.w3.org/2000/svg\" height=\"24px\"viewBox=\"0 0 24 24\"\n",
              "     width=\"24px\">\n",
              "    <g>\n",
              "        <path d=\"M19 3H5c-1.1 0-2 .9-2 2v14c0 1.1.9 2 2 2h14c1.1 0 2-.9 2-2V5c0-1.1-.9-2-2-2zM9 17H7v-7h2v7zm4 0h-2V7h2v10zm4 0h-2v-4h2v4z\"/>\n",
              "    </g>\n",
              "</svg>\n",
              "  </button>\n",
              "\n",
              "<style>\n",
              "  .colab-df-quickchart {\n",
              "      --bg-color: #E8F0FE;\n",
              "      --fill-color: #1967D2;\n",
              "      --hover-bg-color: #E2EBFA;\n",
              "      --hover-fill-color: #174EA6;\n",
              "      --disabled-fill-color: #AAA;\n",
              "      --disabled-bg-color: #DDD;\n",
              "  }\n",
              "\n",
              "  [theme=dark] .colab-df-quickchart {\n",
              "      --bg-color: #3B4455;\n",
              "      --fill-color: #D2E3FC;\n",
              "      --hover-bg-color: #434B5C;\n",
              "      --hover-fill-color: #FFFFFF;\n",
              "      --disabled-bg-color: #3B4455;\n",
              "      --disabled-fill-color: #666;\n",
              "  }\n",
              "\n",
              "  .colab-df-quickchart {\n",
              "    background-color: var(--bg-color);\n",
              "    border: none;\n",
              "    border-radius: 50%;\n",
              "    cursor: pointer;\n",
              "    display: none;\n",
              "    fill: var(--fill-color);\n",
              "    height: 32px;\n",
              "    padding: 0;\n",
              "    width: 32px;\n",
              "  }\n",
              "\n",
              "  .colab-df-quickchart:hover {\n",
              "    background-color: var(--hover-bg-color);\n",
              "    box-shadow: 0 1px 2px rgba(60, 64, 67, 0.3), 0 1px 3px 1px rgba(60, 64, 67, 0.15);\n",
              "    fill: var(--button-hover-fill-color);\n",
              "  }\n",
              "\n",
              "  .colab-df-quickchart-complete:disabled,\n",
              "  .colab-df-quickchart-complete:disabled:hover {\n",
              "    background-color: var(--disabled-bg-color);\n",
              "    fill: var(--disabled-fill-color);\n",
              "    box-shadow: none;\n",
              "  }\n",
              "\n",
              "  .colab-df-spinner {\n",
              "    border: 2px solid var(--fill-color);\n",
              "    border-color: transparent;\n",
              "    border-bottom-color: var(--fill-color);\n",
              "    animation:\n",
              "      spin 1s steps(1) infinite;\n",
              "  }\n",
              "\n",
              "  @keyframes spin {\n",
              "    0% {\n",
              "      border-color: transparent;\n",
              "      border-bottom-color: var(--fill-color);\n",
              "      border-left-color: var(--fill-color);\n",
              "    }\n",
              "    20% {\n",
              "      border-color: transparent;\n",
              "      border-left-color: var(--fill-color);\n",
              "      border-top-color: var(--fill-color);\n",
              "    }\n",
              "    30% {\n",
              "      border-color: transparent;\n",
              "      border-left-color: var(--fill-color);\n",
              "      border-top-color: var(--fill-color);\n",
              "      border-right-color: var(--fill-color);\n",
              "    }\n",
              "    40% {\n",
              "      border-color: transparent;\n",
              "      border-right-color: var(--fill-color);\n",
              "      border-top-color: var(--fill-color);\n",
              "    }\n",
              "    60% {\n",
              "      border-color: transparent;\n",
              "      border-right-color: var(--fill-color);\n",
              "    }\n",
              "    80% {\n",
              "      border-color: transparent;\n",
              "      border-right-color: var(--fill-color);\n",
              "      border-bottom-color: var(--fill-color);\n",
              "    }\n",
              "    90% {\n",
              "      border-color: transparent;\n",
              "      border-bottom-color: var(--fill-color);\n",
              "    }\n",
              "  }\n",
              "</style>\n",
              "\n",
              "  <script>\n",
              "    async function quickchart(key) {\n",
              "      const quickchartButtonEl =\n",
              "        document.querySelector('#' + key + ' button');\n",
              "      quickchartButtonEl.disabled = true;  // To prevent multiple clicks.\n",
              "      quickchartButtonEl.classList.add('colab-df-spinner');\n",
              "      try {\n",
              "        const charts = await google.colab.kernel.invokeFunction(\n",
              "            'suggestCharts', [key], {});\n",
              "      } catch (error) {\n",
              "        console.error('Error during call to suggestCharts:', error);\n",
              "      }\n",
              "      quickchartButtonEl.classList.remove('colab-df-spinner');\n",
              "      quickchartButtonEl.classList.add('colab-df-quickchart-complete');\n",
              "    }\n",
              "    (() => {\n",
              "      let quickchartButtonEl =\n",
              "        document.querySelector('#df-7be81998-d2f5-428e-b8ef-af67f3d73d3b button');\n",
              "      quickchartButtonEl.style.display =\n",
              "        google.colab.kernel.accessAllowed ? 'block' : 'none';\n",
              "    })();\n",
              "  </script>\n",
              "</div>\n",
              "\n",
              "    </div>\n",
              "  </div>\n"
            ]
          },
          "metadata": {},
          "execution_count": 9
        }
      ],
      "source": [
        "df.head()"
      ]
    },
    {
      "cell_type": "code",
      "source": [
        "df.shape"
      ],
      "metadata": {
        "colab": {
          "base_uri": "https://localhost:8080/"
        },
        "id": "eXV0avfmErdO",
        "outputId": "661e04dd-afa9-41df-e339-561aec0b3c9c"
      },
      "id": "eXV0avfmErdO",
      "execution_count": null,
      "outputs": [
        {
          "output_type": "execute_result",
          "data": {
            "text/plain": [
              "(107583, 70)"
            ]
          },
          "metadata": {},
          "execution_count": 10
        }
      ]
    },
    {
      "cell_type": "code",
      "source": [
        "df.info()"
      ],
      "metadata": {
        "colab": {
          "base_uri": "https://localhost:8080/"
        },
        "id": "CzWv6FGUC8Ze",
        "outputId": "09538e1b-c103-4955-9218-c909ac7c0d6d"
      },
      "id": "CzWv6FGUC8Ze",
      "execution_count": null,
      "outputs": [
        {
          "output_type": "stream",
          "name": "stdout",
          "text": [
            "<class 'pandas.core.frame.DataFrame'>\n",
            "RangeIndex: 107583 entries, 0 to 107582\n",
            "Data columns (total 70 columns):\n",
            " #   Column                                            Non-Null Count   Dtype  \n",
            "---  ------                                            --------------   -----  \n",
            " 0   Publication (Citation)                            105928 non-null  object \n",
            " 1   Data contributor                                  107583 non-null  object \n",
            " 2   Year                                              107335 non-null  float64\n",
            " 3   Season                                            107342 non-null  object \n",
            " 4   Koppen climate classification                     107583 non-null  object \n",
            " 5   Climate                                           107583 non-null  object \n",
            " 6   City                                              107570 non-null  object \n",
            " 7   Country                                           107583 non-null  object \n",
            " 8   Building type                                     103384 non-null  object \n",
            " 9   Cooling startegy_building level                   106356 non-null  object \n",
            " 10  Cooling startegy_operation mode for MM buildings  26519 non-null   object \n",
            " 11  Heating strategy_building level                   37765 non-null   object \n",
            " 12  Age                                               43579 non-null   float64\n",
            " 13  Sex                                               67035 non-null   object \n",
            " 14  Thermal sensation                                 104454 non-null  float64\n",
            " 15  Thermal sensation acceptability                   62444 non-null   float64\n",
            " 16  Thermal preference                                85500 non-null   object \n",
            " 17  Air movement acceptability                        16347 non-null   float64\n",
            " 18  Air movement preference                           43375 non-null   object \n",
            " 19  Thermal comfort                                   36335 non-null   object \n",
            " 20  PMV                                               66734 non-null   float64\n",
            " 21  PPD                                               66734 non-null   float64\n",
            " 22  SET                                               66518 non-null   float64\n",
            " 23  Clo                                               99663 non-null   float64\n",
            " 24  Met                                               90419 non-null   float64\n",
            " 25  activity_10                                       8810 non-null    float64\n",
            " 26  activity_20                                       9699 non-null    float64\n",
            " 27  activity_30                                       8754 non-null    float64\n",
            " 28  activity_60                                       9597 non-null    float64\n",
            " 29  Air temperature (C)                               99911 non-null   float64\n",
            " 30  Air temperature (F)                               99911 non-null   float64\n",
            " 31  Ta_h (C)                                          28024 non-null   float64\n",
            " 32  Ta_h (F)                                          28024 non-null   float64\n",
            " 33  Ta_m (C)                                          31148 non-null   float64\n",
            " 34  Ta_m (F)                                          31165 non-null   object \n",
            " 35  Ta_l (C)                                          10448 non-null   float64\n",
            " 36  Ta_l (F)                                          10448 non-null   float64\n",
            " 37  Operative temperature (C)                         37963 non-null   float64\n",
            " 38  Operative temperature (F)                         37963 non-null   float64\n",
            " 39  Radiant temperature (C)                           32473 non-null   float64\n",
            " 40  Radiant temperature (F)                           32472 non-null   float64\n",
            " 41  Globe temperature (C)                             26004 non-null   float64\n",
            " 42  Globe temperature (F)                             26004 non-null   float64\n",
            " 43  Tg_h (C)                                          53005 non-null   float64\n",
            " 44  Tg_h (F)                                          53005 non-null   float64\n",
            " 45  Tg_m (C)                                          25886 non-null   float64\n",
            " 46  Tg_m (F)                                          25886 non-null   float64\n",
            " 47  Tg_l (C)                                          23248 non-null   float64\n",
            " 48  Tg_l (F)                                          23248 non-null   float64\n",
            " 49  Relative humidity (%)                             97762 non-null   float64\n",
            " 50  Humidity preference                               12243 non-null   object \n",
            " 51  Humidity sensation                                12540 non-null   float64\n",
            " 52  Air velocity (m/s)                                89892 non-null   float64\n",
            " 53  Air velocity (fpm)                                89881 non-null   float64\n",
            " 54  Velocity_h (m/s)                                  21979 non-null   float64\n",
            " 55  Velocity_h (fpm)                                  21979 non-null   float64\n",
            " 56  Velocity_m (m/s)                                  28320 non-null   float64\n",
            " 57  Velocity_m (fpm)                                  28320 non-null   float64\n",
            " 58  Velocity_l (m/s)                                  10252 non-null   float64\n",
            " 59  Velocity_l (fpm)                                  10252 non-null   float64\n",
            " 60  Subject«s height (cm)                             20353 non-null   float64\n",
            " 61  Subject«s weight (kg)                             24662 non-null   float64\n",
            " 62  Blind (curtain)                                   5735 non-null    float64\n",
            " 63  Fan                                               13186 non-null   float64\n",
            " 64  Window                                            22079 non-null   float64\n",
            " 65  Door                                              11130 non-null   float64\n",
            " 66  Heater                                            8338 non-null    float64\n",
            " 67  Outdoor monthly air temperature (C)               79338 non-null   float64\n",
            " 68  Outdoor monthly air temperature (F)               79336 non-null   float64\n",
            " 69  Database                                          107583 non-null  object \n",
            "dtypes: float64(52), object(18)\n",
            "memory usage: 57.5+ MB\n"
          ]
        }
      ]
    },
    {
      "cell_type": "code",
      "source": [
        "df = df[[\n",
        "    'Thermal comfort', 'Thermal sensation acceptability', 'Thermal preference',\n",
        "    'Thermal sensation', 'Humidity sensation', 'Blind (curtain)', 'Fan',\n",
        "    'Window', 'Door', 'Heater', 'Building type', 'Cooling startegy_building level',\n",
        "    'Cooling startegy_operation mode for MM buildings', 'Heating strategy_building level',\n",
        "    'Age', 'Air movement acceptability', 'Air movement preference', 'Air temperature (C)',\n",
        "    'Operative temperature (C)', 'Radiant temperature (C)', 'Globe temperature (C)',\n",
        "    'Relative humidity (%)', 'Season', 'Sex','Country']]"
      ],
      "metadata": {
        "id": "fpESalRTCrkf"
      },
      "id": "fpESalRTCrkf",
      "execution_count": null,
      "outputs": []
    },
    {
      "cell_type": "code",
      "execution_count": null,
      "id": "8819eee8",
      "metadata": {
        "execution": {
          "iopub.execute_input": "2023-10-15T17:05:06.393164Z",
          "iopub.status.busy": "2023-10-15T17:05:06.392770Z",
          "iopub.status.idle": "2023-10-15T17:05:06.520978Z",
          "shell.execute_reply": "2023-10-15T17:05:06.518785Z"
        },
        "papermill": {
          "duration": 0.143199,
          "end_time": "2023-10-15T17:05:06.523233",
          "exception": false,
          "start_time": "2023-10-15T17:05:06.380034",
          "status": "completed"
        },
        "tags": [],
        "id": "8819eee8",
        "outputId": "9c95ad89-d412-42ef-cd2e-d8ba31d9fd18",
        "colab": {
          "base_uri": "https://localhost:8080/"
        }
      },
      "outputs": [
        {
          "output_type": "stream",
          "name": "stdout",
          "text": [
            "<class 'pandas.core.frame.DataFrame'>\n",
            "RangeIndex: 107583 entries, 0 to 107582\n",
            "Data columns (total 25 columns):\n",
            " #   Column                                            Non-Null Count   Dtype  \n",
            "---  ------                                            --------------   -----  \n",
            " 0   Thermal comfort                                   36335 non-null   object \n",
            " 1   Thermal sensation acceptability                   62444 non-null   float64\n",
            " 2   Thermal preference                                85500 non-null   object \n",
            " 3   Thermal sensation                                 104454 non-null  float64\n",
            " 4   Humidity sensation                                12540 non-null   float64\n",
            " 5   Blind (curtain)                                   5735 non-null    float64\n",
            " 6   Fan                                               13186 non-null   float64\n",
            " 7   Window                                            22079 non-null   float64\n",
            " 8   Door                                              11130 non-null   float64\n",
            " 9   Heater                                            8338 non-null    float64\n",
            " 10  Building type                                     103384 non-null  object \n",
            " 11  Cooling startegy_building level                   106356 non-null  object \n",
            " 12  Cooling startegy_operation mode for MM buildings  26519 non-null   object \n",
            " 13  Heating strategy_building level                   37765 non-null   object \n",
            " 14  Age                                               43579 non-null   float64\n",
            " 15  Air movement acceptability                        16347 non-null   float64\n",
            " 16  Air movement preference                           43375 non-null   object \n",
            " 17  Air temperature (C)                               99911 non-null   float64\n",
            " 18  Operative temperature (C)                         37963 non-null   float64\n",
            " 19  Radiant temperature (C)                           32473 non-null   float64\n",
            " 20  Globe temperature (C)                             26004 non-null   float64\n",
            " 21  Relative humidity (%)                             97762 non-null   float64\n",
            " 22  Season                                            107342 non-null  object \n",
            " 23  Sex                                               67035 non-null   object \n",
            " 24  Country                                           107583 non-null  object \n",
            "dtypes: float64(15), object(10)\n",
            "memory usage: 20.5+ MB\n"
          ]
        }
      ],
      "source": [
        "df.info()"
      ]
    },
    {
      "cell_type": "code",
      "source": [
        "df.isnull().sum()"
      ],
      "metadata": {
        "colab": {
          "base_uri": "https://localhost:8080/"
        },
        "id": "0BtX1ECGFi29",
        "outputId": "8af85cf1-5774-491c-a56b-143a6c2935fa"
      },
      "id": "0BtX1ECGFi29",
      "execution_count": null,
      "outputs": [
        {
          "output_type": "execute_result",
          "data": {
            "text/plain": [
              "Thermal comfort                                      71248\n",
              "Thermal sensation acceptability                      45139\n",
              "Thermal preference                                   22083\n",
              "Thermal sensation                                     3129\n",
              "Humidity sensation                                   95043\n",
              "Blind (curtain)                                     101848\n",
              "Fan                                                  94397\n",
              "Window                                               85504\n",
              "Door                                                 96453\n",
              "Heater                                               99245\n",
              "Building type                                         4199\n",
              "Cooling startegy_building level                       1227\n",
              "Cooling startegy_operation mode for MM buildings     81064\n",
              "Heating strategy_building level                      69818\n",
              "Age                                                  64004\n",
              "Air movement acceptability                           91236\n",
              "Air movement preference                              64208\n",
              "Air temperature (C)                                   7672\n",
              "Operative temperature (C)                            69620\n",
              "Radiant temperature (C)                              75110\n",
              "Globe temperature (C)                                81579\n",
              "Relative humidity (%)                                 9821\n",
              "Season                                                 241\n",
              "Sex                                                  40548\n",
              "Country                                                  0\n",
              "dtype: int64"
            ]
          },
          "metadata": {},
          "execution_count": 14
        }
      ]
    },
    {
      "cell_type": "code",
      "source": [
        "df['Country'].value_counts()"
      ],
      "metadata": {
        "colab": {
          "base_uri": "https://localhost:8080/"
        },
        "id": "hHERhaI8Fnmm",
        "outputId": "a6964d91-d263-40b0-c664-fea5a2ee1d7b"
      },
      "id": "hHERhaI8Fnmm",
      "execution_count": null,
      "outputs": [
        {
          "output_type": "execute_result",
          "data": {
            "text/plain": [
              "UK             27273\n",
              "India          16110\n",
              "USA            15144\n",
              "Australia       8259\n",
              "China           8213\n",
              "Brazil          7390\n",
              "Pakistan        4199\n",
              "Canada          2728\n",
              "Iran            1971\n",
              "Greece          1951\n",
              "Tunisia         1651\n",
              "Portugal        1559\n",
              "Mexico          1423\n",
              "Thailand        1168\n",
              "Germany         1055\n",
              "Singapore       1034\n",
              "Malaysia         990\n",
              "Sweden           970\n",
              "Japan            834\n",
              "Slovakia         648\n",
              "Indonesia        596\n",
              "South Korea      574\n",
              "France           516\n",
              "Nigeria          512\n",
              "Italy            283\n",
              "Philippines      277\n",
              "Denmark          170\n",
              "Belgium           85\n",
              "Name: Country, dtype: int64"
            ]
          },
          "metadata": {},
          "execution_count": 15
        }
      ]
    },
    {
      "cell_type": "code",
      "source": [],
      "metadata": {
        "id": "qJ1eywxTVkio"
      },
      "id": "qJ1eywxTVkio",
      "execution_count": null,
      "outputs": []
    },
    {
      "cell_type": "markdown",
      "source": [
        "[link text](https://)[link text](https://)# **sTART OF UK**"
      ],
      "metadata": {
        "id": "I-QNmREXVlI2"
      },
      "id": "I-QNmREXVlI2"
    },
    {
      "cell_type": "code",
      "source": [
        "# prompt: in country india and uk i want to see how many is nan value?\n",
        "\n",
        "df[df['Country'].isin(['UK'])].isnull().sum()\n"
      ],
      "metadata": {
        "colab": {
          "base_uri": "https://localhost:8080/"
        },
        "id": "bn-Wla96F1Cf",
        "outputId": "3b03d13a-c837-4b33-8bc2-1212e248b6cb"
      },
      "id": "bn-Wla96F1Cf",
      "execution_count": null,
      "outputs": [
        {
          "output_type": "execute_result",
          "data": {
            "text/plain": [
              "Thermal comfort                                     26764\n",
              "Thermal sensation acceptability                      5535\n",
              "Thermal preference                                   3592\n",
              "Thermal sensation                                     101\n",
              "Humidity sensation                                  25479\n",
              "Blind (curtain)                                     27273\n",
              "Fan                                                 27273\n",
              "Window                                              27273\n",
              "Door                                                27273\n",
              "Heater                                              27273\n",
              "Building type                                           0\n",
              "Cooling startegy_building level                         0\n",
              "Cooling startegy_operation mode for MM buildings    26831\n",
              "Heating strategy_building level                      4494\n",
              "Age                                                 25887\n",
              "Air movement acceptability                          26764\n",
              "Air movement preference                             25479\n",
              "Air temperature (C)                                  1173\n",
              "Operative temperature (C)                           22793\n",
              "Radiant temperature (C)                             21824\n",
              "Globe temperature (C)                               25101\n",
              "Relative humidity (%)                                 767\n",
              "Season                                                  0\n",
              "Sex                                                 24195\n",
              "Country                                                 0\n",
              "dtype: int64"
            ]
          },
          "metadata": {},
          "execution_count": 16
        }
      ]
    },
    {
      "cell_type": "code",
      "source": [
        "df[df['Country'].isin(['UK'])].isnull().sum()\n"
      ],
      "metadata": {
        "colab": {
          "base_uri": "https://localhost:8080/"
        },
        "id": "ou9o8xgdGQr2",
        "outputId": "c581a89b-747c-47e8-bc93-65df04802738"
      },
      "id": "ou9o8xgdGQr2",
      "execution_count": null,
      "outputs": [
        {
          "output_type": "execute_result",
          "data": {
            "text/plain": [
              "Thermal comfort                                     26764\n",
              "Thermal sensation acceptability                      5535\n",
              "Thermal preference                                   3592\n",
              "Thermal sensation                                     101\n",
              "Humidity sensation                                  25479\n",
              "Blind (curtain)                                     27273\n",
              "Fan                                                 27273\n",
              "Window                                              27273\n",
              "Door                                                27273\n",
              "Heater                                              27273\n",
              "Building type                                           0\n",
              "Cooling startegy_building level                         0\n",
              "Cooling startegy_operation mode for MM buildings    26831\n",
              "Heating strategy_building level                      4494\n",
              "Age                                                 25887\n",
              "Air movement acceptability                          26764\n",
              "Air movement preference                             25479\n",
              "Air temperature (C)                                  1173\n",
              "Operative temperature (C)                           22793\n",
              "Radiant temperature (C)                             21824\n",
              "Globe temperature (C)                               25101\n",
              "Relative humidity (%)                                 767\n",
              "Season                                                  0\n",
              "Sex                                                 24195\n",
              "Country                                                 0\n",
              "dtype: int64"
            ]
          },
          "metadata": {},
          "execution_count": 17
        }
      ]
    },
    {
      "cell_type": "code",
      "source": [
        "\n",
        "df = df[df['Country'].isin(['UK'])]\n"
      ],
      "metadata": {
        "id": "oIQxXN8pGfRl"
      },
      "id": "oIQxXN8pGfRl",
      "execution_count": null,
      "outputs": []
    },
    {
      "cell_type": "code",
      "source": [
        "df['Country'].value_counts()"
      ],
      "metadata": {
        "colab": {
          "base_uri": "https://localhost:8080/"
        },
        "id": "FRSqxRBuGyQl",
        "outputId": "d0e9b160-9017-4fe9-d8ff-9ee132531bae"
      },
      "id": "FRSqxRBuGyQl",
      "execution_count": null,
      "outputs": [
        {
          "output_type": "execute_result",
          "data": {
            "text/plain": [
              "UK    27273\n",
              "Name: Country, dtype: int64"
            ]
          },
          "metadata": {},
          "execution_count": 19
        }
      ]
    },
    {
      "cell_type": "code",
      "source": [
        "df.info()"
      ],
      "metadata": {
        "colab": {
          "base_uri": "https://localhost:8080/"
        },
        "id": "FTvAPbueGpUt",
        "outputId": "36952eaa-326b-4517-cb0f-080ffd1d733a"
      },
      "id": "FTvAPbueGpUt",
      "execution_count": null,
      "outputs": [
        {
          "output_type": "stream",
          "name": "stdout",
          "text": [
            "<class 'pandas.core.frame.DataFrame'>\n",
            "Int64Index: 27273 entries, 28676 to 101397\n",
            "Data columns (total 25 columns):\n",
            " #   Column                                            Non-Null Count  Dtype  \n",
            "---  ------                                            --------------  -----  \n",
            " 0   Thermal comfort                                   509 non-null    object \n",
            " 1   Thermal sensation acceptability                   21738 non-null  float64\n",
            " 2   Thermal preference                                23681 non-null  object \n",
            " 3   Thermal sensation                                 27172 non-null  float64\n",
            " 4   Humidity sensation                                1794 non-null   float64\n",
            " 5   Blind (curtain)                                   0 non-null      float64\n",
            " 6   Fan                                               0 non-null      float64\n",
            " 7   Window                                            0 non-null      float64\n",
            " 8   Door                                              0 non-null      float64\n",
            " 9   Heater                                            0 non-null      float64\n",
            " 10  Building type                                     27273 non-null  object \n",
            " 11  Cooling startegy_building level                   27273 non-null  object \n",
            " 12  Cooling startegy_operation mode for MM buildings  442 non-null    object \n",
            " 13  Heating strategy_building level                   22779 non-null  object \n",
            " 14  Age                                               1386 non-null   float64\n",
            " 15  Air movement acceptability                        509 non-null    float64\n",
            " 16  Air movement preference                           1794 non-null   object \n",
            " 17  Air temperature (C)                               26100 non-null  float64\n",
            " 18  Operative temperature (C)                         4480 non-null   float64\n",
            " 19  Radiant temperature (C)                           5449 non-null   float64\n",
            " 20  Globe temperature (C)                             2172 non-null   float64\n",
            " 21  Relative humidity (%)                             26506 non-null  float64\n",
            " 22  Season                                            27273 non-null  object \n",
            " 23  Sex                                               3078 non-null   object \n",
            " 24  Country                                           27273 non-null  object \n",
            "dtypes: float64(15), object(10)\n",
            "memory usage: 5.4+ MB\n"
          ]
        }
      ]
    },
    {
      "cell_type": "code",
      "source": [
        "df['Thermal comfort'].isnull().sum()"
      ],
      "metadata": {
        "colab": {
          "base_uri": "https://localhost:8080/"
        },
        "id": "kYIt7lhT3q0f",
        "outputId": "0ba783e9-9e89-49fa-c6f6-155d99b4ca8a"
      },
      "id": "kYIt7lhT3q0f",
      "execution_count": null,
      "outputs": [
        {
          "output_type": "execute_result",
          "data": {
            "text/plain": [
              "26764"
            ]
          },
          "metadata": {},
          "execution_count": 21
        }
      ]
    },
    {
      "cell_type": "code",
      "source": [
        "df['Thermal comfort'].value_counts()"
      ],
      "metadata": {
        "colab": {
          "base_uri": "https://localhost:8080/"
        },
        "id": "ug19LmEb3tkf",
        "outputId": "1322e3c4-4b4e-428e-f04f-d4aed5dc8b30"
      },
      "id": "ug19LmEb3tkf",
      "execution_count": null,
      "outputs": [
        {
          "output_type": "execute_result",
          "data": {
            "text/plain": [
              "4.0    337\n",
              "3.0    143\n",
              "2.0     19\n",
              "1.0     10\n",
              "Name: Thermal comfort, dtype: int64"
            ]
          },
          "metadata": {},
          "execution_count": 22
        }
      ]
    },
    {
      "cell_type": "code",
      "source": [
        "df['Thermal comfort'].replace([2.0, 2.1, 2.2, 2.3, 2.4, 2.5, 2.6, 2.7, 2.8, 2.9], 2, inplace=True)\n",
        "df['Thermal comfort'].replace([1.0, 1.8], 1, inplace=True)\n",
        "df['Thermal comfort'].replace([5.0, 5.2,], 5, inplace=True)\n",
        "df['Thermal comfort'].replace([4.0, 4.3,4.5,4.2], 4, inplace=True)\n",
        "df['Thermal comfort'].replace([3.0, 3.5], 3, inplace=True)\n",
        "df['Thermal comfort'].replace('5', 5, inplace=True)\n",
        "df['Thermal comfort'].replace('4', 4, inplace=True)\n",
        "df['Thermal comfort'].replace('6', 6.0, inplace=True)\n",
        "df['Thermal comfort'].replace('3', 3, inplace=True)\n",
        "df['Thermal comfort'].replace('2', 2, inplace=True)\n",
        "df['Thermal comfort'].replace('1', 1, inplace=True)\n",
        "df['Thermal comfort'].replace(' ', 1, inplace=True)"
      ],
      "metadata": {
        "id": "ggsdrPKjGvBN"
      },
      "id": "ggsdrPKjGvBN",
      "execution_count": null,
      "outputs": []
    },
    {
      "cell_type": "code",
      "source": [
        "df['Thermal comfort'].value_counts()"
      ],
      "metadata": {
        "colab": {
          "base_uri": "https://localhost:8080/"
        },
        "id": "e0JBxyZy3zcX",
        "outputId": "a3705c31-08ec-4fd0-be4c-e320ce59cfe6"
      },
      "id": "e0JBxyZy3zcX",
      "execution_count": null,
      "outputs": [
        {
          "output_type": "execute_result",
          "data": {
            "text/plain": [
              "4.0    337\n",
              "3.0    143\n",
              "2.0     19\n",
              "1.0     10\n",
              "Name: Thermal comfort, dtype: int64"
            ]
          },
          "metadata": {},
          "execution_count": 24
        }
      ]
    },
    {
      "cell_type": "markdown",
      "source": [
        "# alpha beta purning"
      ],
      "metadata": {
        "id": "G8Bzl8t2JZ6h"
      },
      "id": "G8Bzl8t2JZ6h"
    },
    {
      "cell_type": "code",
      "source": [
        "#mode_value = df['Thermal sensation acceptability'].mode()[0]\n",
        "#df['Thermal sensation acceptability'].fillna(mode_value, inplace=True)\n",
        "\n",
        "#mode_value = df['Thermal preference'].mode()[0]\n",
        "#df['Thermal preference'].fillna(mode_value, inplace=True)\n",
        "\n",
        "#mode_value = df['Thermal sensation'].mode()[0]\n",
        "#df['Thermal sensation'].fillna(mode_value, inplace=True)\n",
        "\n",
        "\n",
        "#mode_value = df['Blind (curtain)'].mode()[0]\n",
        "#df['Blind (curtain)'].fillna(mode_value, inplace=True)\n",
        "\n",
        "#mode_value = df['Fan'].mode()[0]\n",
        "#df['Fan'].fillna(mode_value, inplace=True)\n",
        "\n",
        "#mode_value = df['Window'].mode()[0]\n",
        "#df['Window'].fillna(mode_value, inplace=True)\n",
        "\n",
        "\n",
        "\n",
        "\n",
        "#mode_value = df['Heater'].mode()[0]\n",
        "#df['Heater'].fillna(mode_value, inplace=True)\n",
        "\n",
        "#mode_value = df['Building type'].mode()[0]\n",
        "#df['Building type'].fillna(mode_value, inplace=True)\n",
        "\n",
        "#mode_value = df['Cooling startegy_operation mode for MM buildings'].mode()[0]\n",
        "#df['Cooling startegy_operation mode for MM buildings'].fillna(mode_value, inplace=True)\n",
        "\n",
        "#mode_value = df['Heating strategy_building level'].mode()[0]\n",
        "#df['Heating strategy_building level'].fillna(mode_value, inplace=True)\n",
        "\n",
        "\n",
        "#mode_value = df['Age'].mode()[0]\n",
        "#df['Age'].fillna(mode_value, inplace=True)\n",
        "\n",
        "#mode_value = df['Air movement acceptability'].mode()[0]\n",
        "#df['Air movement acceptability'].fillna(mode_value, inplace=True)\n",
        "\n",
        "#mode_value = df['Air movement preference'].mode()[0]\n",
        "#df['Air movement preference'].fillna(mode_value, inplace=True)\n",
        "\n",
        "#mode_value = df['Air temperature (C)'].mode()[0]\n",
        "#df['Air temperature (C)'].fillna(mode_value, inplace=True)\n",
        "\n",
        "#mode_value = df['Operative temperature (C)'].mode()[0]\n",
        "#df['Operative temperature (C)'].fillna(mode_value, inplace=True)\n",
        "\n",
        "#mode_value = df['Radiant temperature (C)'].mode()[0]\n",
        "#df['Radiant temperature (C)'].fillna(mode_value, inplace=True)\n",
        "\n",
        "#mode_value = df['Globe temperature (C)'].mode()[0]\n",
        "#df['Globe temperature (C)'].fillna(mode_value, inplace=True)\n",
        "\n",
        "#mode_value = df['Relative humidity (%)'].mode()[0]\n",
        "#df['Relative humidity (%)'].fillna(mode_value, inplace=True)\n",
        "\n",
        "#mode_value = df['Season'].mode()[0]\n",
        "#df['Season'].fillna(mode_value, inplace=True)\n",
        "\n",
        "#mode_value = df['Sex'].mode()[0]\n",
        "#df['Sex'].fillna(mode_value, inplace=True)"
      ],
      "metadata": {
        "id": "qO8ly0qKIxPf"
      },
      "id": "qO8ly0qKIxPf",
      "execution_count": null,
      "outputs": []
    },
    {
      "cell_type": "markdown",
      "source": [
        "# backward purning"
      ],
      "metadata": {
        "id": "KCn7v2RL6TGH"
      },
      "id": "KCn7v2RL6TGH"
    },
    {
      "cell_type": "code",
      "source": [
        "df.info()"
      ],
      "metadata": {
        "colab": {
          "base_uri": "https://localhost:8080/"
        },
        "id": "GELR_f0hKiLP",
        "outputId": "5cda4868-0e69-42cd-d99b-bbf6bd7d3b45"
      },
      "id": "GELR_f0hKiLP",
      "execution_count": null,
      "outputs": [
        {
          "output_type": "stream",
          "name": "stdout",
          "text": [
            "<class 'pandas.core.frame.DataFrame'>\n",
            "Int64Index: 27273 entries, 28676 to 101397\n",
            "Data columns (total 25 columns):\n",
            " #   Column                                            Non-Null Count  Dtype  \n",
            "---  ------                                            --------------  -----  \n",
            " 0   Thermal comfort                                   509 non-null    float64\n",
            " 1   Thermal sensation acceptability                   21738 non-null  float64\n",
            " 2   Thermal preference                                23681 non-null  object \n",
            " 3   Thermal sensation                                 27172 non-null  float64\n",
            " 4   Humidity sensation                                1794 non-null   float64\n",
            " 5   Blind (curtain)                                   0 non-null      float64\n",
            " 6   Fan                                               0 non-null      float64\n",
            " 7   Window                                            0 non-null      float64\n",
            " 8   Door                                              0 non-null      float64\n",
            " 9   Heater                                            0 non-null      float64\n",
            " 10  Building type                                     27273 non-null  object \n",
            " 11  Cooling startegy_building level                   27273 non-null  object \n",
            " 12  Cooling startegy_operation mode for MM buildings  442 non-null    object \n",
            " 13  Heating strategy_building level                   22779 non-null  object \n",
            " 14  Age                                               1386 non-null   float64\n",
            " 15  Air movement acceptability                        509 non-null    float64\n",
            " 16  Air movement preference                           1794 non-null   object \n",
            " 17  Air temperature (C)                               26100 non-null  float64\n",
            " 18  Operative temperature (C)                         4480 non-null   float64\n",
            " 19  Radiant temperature (C)                           5449 non-null   float64\n",
            " 20  Globe temperature (C)                             2172 non-null   float64\n",
            " 21  Relative humidity (%)                             26506 non-null  float64\n",
            " 22  Season                                            27273 non-null  object \n",
            " 23  Sex                                               3078 non-null   object \n",
            " 24  Country                                           27273 non-null  object \n",
            "dtypes: float64(16), object(9)\n",
            "memory usage: 5.4+ MB\n"
          ]
        }
      ]
    },
    {
      "cell_type": "code",
      "source": [],
      "metadata": {
        "id": "gV9EjnihPAyO"
      },
      "id": "gV9EjnihPAyO",
      "execution_count": null,
      "outputs": []
    },
    {
      "cell_type": "code",
      "source": [
        "df['Thermal sensation'].fillna(method='bfill', inplace=True)\n"
      ],
      "metadata": {
        "id": "wxBJUQuUJE_-"
      },
      "id": "wxBJUQuUJE_-",
      "execution_count": null,
      "outputs": []
    },
    {
      "cell_type": "code",
      "source": [
        "\n",
        "df['Thermal sensation acceptability'].fillna(method='bfill', inplace=True)\n",
        "\n",
        "\n",
        "df['Thermal preference'].fillna(method='bfill', inplace=True)\n",
        "\n",
        "df['Thermal sensation'].fillna(method='bfill', inplace=True)\n",
        "\n",
        "df['Blind (curtain)'].fillna(method='bfill', inplace=True)\n",
        "\n",
        "\n",
        "df['Fan'].fillna(method='bfill', inplace=True)\n",
        "\n",
        "df['Window'].fillna(method='bfill', inplace=True)\n",
        "\n",
        "\n",
        "\n",
        "df['Heater'].fillna(method='bfill', inplace=True)\n",
        "\n",
        "\n",
        "df['Building type'].fillna(method='bfill', inplace=True)\n",
        "\n",
        "\n",
        "df['Cooling startegy_operation mode for MM buildings'].fillna(method='bfill', inplace=True)\n",
        "\n",
        "\n",
        "df['Heating strategy_building level'].fillna(method='bfill', inplace=True)\n",
        "\n",
        "\n",
        "df['Age'].fillna(method='bfill', inplace=True)\n",
        "\n",
        "\n",
        "df['Air movement acceptability'].fillna(method='bfill', inplace=True)\n",
        "\n",
        "\n",
        "df['Air movement preference'].fillna(method='bfill', inplace=True)\n",
        "\n",
        "df['Air temperature (C)'].fillna(method='bfill', inplace=True)\n",
        "\n",
        "\n",
        "df['Operative temperature (C)'].fillna(method='bfill', inplace=True)\n",
        "\n",
        "\n",
        "df['Radiant temperature (C)'].fillna(method='bfill', inplace=True)\n",
        "\n",
        "\n",
        "df['Globe temperature (C)'].fillna(method='bfill', inplace=True)\n",
        "\n",
        "\n",
        "df['Relative humidity (%)'].fillna(method='bfill', inplace=True)\n",
        "\n",
        "df['Season'].fillna(method='bfill', inplace=True)\n",
        "\n",
        "\n",
        "df['Sex'].fillna(method='bfill', inplace=True)\n",
        "\n",
        "df['Blind (curtain)'].fillna(method='bfill', inplace=True)\n",
        "df['Fan'].fillna(method='bfill', inplace=True)\n",
        "\n",
        "df['Window'].fillna(method='bfill', inplace=True)\n",
        "\n",
        "df['Heater'].fillna(method='bfill', inplace=True)\n",
        "df['Fan'].fillna(method='bfill', inplace=True)\n",
        "\n",
        "df['Window'].fillna(method='bfill', inplace=True)\n",
        "df['Age'].fillna(method='bfill', inplace=True)\n",
        "df['Globe temperature (C)'].fillna(method='bfill', inplace=True)\n",
        "df['Window'].fillna(method='bfill', inplace=True)\n",
        "\n",
        "df['Thermal comfort'].fillna(method='bfill', inplace=True)\n",
        "df['Air movement preference'].fillna(method='bfill', inplace=True)\n",
        "df['Air movement acceptability'].fillna(method='bfill', inplace=True)"
      ],
      "metadata": {
        "id": "gAAMjk1yJ4o3"
      },
      "id": "gAAMjk1yJ4o3",
      "execution_count": null,
      "outputs": []
    },
    {
      "cell_type": "code",
      "source": [
        "\n",
        "df['Humidity sensation'].fillna(method='bfill', inplace=True)"
      ],
      "metadata": {
        "id": "MLDBuvi_35Q_"
      },
      "id": "MLDBuvi_35Q_",
      "execution_count": null,
      "outputs": []
    },
    {
      "cell_type": "code",
      "source": [],
      "metadata": {
        "id": "VfSsO6OpK7cv"
      },
      "id": "VfSsO6OpK7cv",
      "execution_count": null,
      "outputs": []
    },
    {
      "cell_type": "code",
      "source": [
        "df['Thermal comfort'].value_counts()"
      ],
      "metadata": {
        "colab": {
          "base_uri": "https://localhost:8080/"
        },
        "id": "VpHS3S-t36t_",
        "outputId": "eaf37746-c143-40ef-ffbb-695aa60c9576"
      },
      "id": "VpHS3S-t36t_",
      "execution_count": null,
      "outputs": [
        {
          "output_type": "execute_result",
          "data": {
            "text/plain": [
              "4.0    22619\n",
              "3.0      143\n",
              "2.0       19\n",
              "1.0       10\n",
              "Name: Thermal comfort, dtype: int64"
            ]
          },
          "metadata": {},
          "execution_count": 30
        }
      ]
    },
    {
      "cell_type": "code",
      "source": [
        "df['Radiant temperature (C)'].value_counts()"
      ],
      "metadata": {
        "colab": {
          "base_uri": "https://localhost:8080/"
        },
        "id": "y3hYmut4EJmn",
        "outputId": "47630590-114c-4c0f-edf5-bc9478647e94"
      },
      "id": "y3hYmut4EJmn",
      "execution_count": null,
      "outputs": [
        {
          "output_type": "execute_result",
          "data": {
            "text/plain": [
              "26.6    21012\n",
              "21.2      599\n",
              "22.1      173\n",
              "21.4      170\n",
              "24.6      168\n",
              "        ...  \n",
              "12.4        1\n",
              "9.6         1\n",
              "16.6        1\n",
              "29.0        1\n",
              "16.7        1\n",
              "Name: Radiant temperature (C), Length: 147, dtype: int64"
            ]
          },
          "metadata": {},
          "execution_count": 31
        }
      ]
    },
    {
      "cell_type": "code",
      "source": [
        "df['Radiant temperature (C)'].isnull().sum()"
      ],
      "metadata": {
        "colab": {
          "base_uri": "https://localhost:8080/"
        },
        "id": "EFGxFq2jDzZ3",
        "outputId": "d36d565c-4451-4485-9ebe-ae7670cd3e15"
      },
      "id": "EFGxFq2jDzZ3",
      "execution_count": null,
      "outputs": [
        {
          "output_type": "execute_result",
          "data": {
            "text/plain": [
              "0"
            ]
          },
          "metadata": {},
          "execution_count": 32
        }
      ]
    },
    {
      "cell_type": "code",
      "source": [
        "df.isnull().sum()"
      ],
      "metadata": {
        "colab": {
          "base_uri": "https://localhost:8080/"
        },
        "id": "F6hng-BZEWMe",
        "outputId": "97b93a7f-0c60-428d-9ff6-aa5b5697aca9"
      },
      "id": "F6hng-BZEWMe",
      "execution_count": null,
      "outputs": [
        {
          "output_type": "execute_result",
          "data": {
            "text/plain": [
              "Thermal comfort                                      4482\n",
              "Thermal sensation acceptability                         0\n",
              "Thermal preference                                    497\n",
              "Thermal sensation                                       0\n",
              "Humidity sensation                                   4482\n",
              "Blind (curtain)                                     27273\n",
              "Fan                                                 27273\n",
              "Window                                              27273\n",
              "Door                                                27273\n",
              "Heater                                              27273\n",
              "Building type                                           0\n",
              "Cooling startegy_building level                         0\n",
              "Cooling startegy_operation mode for MM buildings        0\n",
              "Heating strategy_building level                      4483\n",
              "Age                                                   497\n",
              "Air movement acceptability                           4482\n",
              "Air movement preference                              4482\n",
              "Air temperature (C)                                     0\n",
              "Operative temperature (C)                               0\n",
              "Radiant temperature (C)                                 0\n",
              "Globe temperature (C)                                 498\n",
              "Relative humidity (%)                                   0\n",
              "Season                                                  0\n",
              "Sex                                                   497\n",
              "Country                                                 0\n",
              "dtype: int64"
            ]
          },
          "metadata": {},
          "execution_count": 33
        }
      ]
    },
    {
      "cell_type": "code",
      "source": [
        "#alpha beta purning\n",
        "mode_value = df['Cooling startegy_operation mode for MM buildings'].mode()[0]\n",
        "df['Cooling startegy_operation mode for MM buildings'].fillna(mode_value, inplace=True)\n",
        "\n",
        "\n",
        "mode_value = df['Heating strategy_building level'].mode()[0]\n",
        "df['Heating strategy_building level'].fillna(mode_value, inplace=True)\n",
        "\n",
        "mode_value = df['Air movement acceptability'].mode()[0]\n",
        "df['Air movement acceptability'].fillna(mode_value, inplace=True)\n",
        "\n",
        "mode_value = df['Air temperature (C)'].mode()[0]\n",
        "df['Air temperature (C)'].fillna(mode_value, inplace=True)\n",
        "\n",
        "mode_value = df['Radiant temperature (C)'].mode()[0]\n",
        "df['Radiant temperature (C)'].fillna(mode_value, inplace=True)\n",
        "\n",
        "\n",
        "mode_value = df['Thermal comfort'].mode()[0]\n",
        "df['Thermal comfort'].fillna(mode_value, inplace=True)\n",
        "\n"
      ],
      "metadata": {
        "id": "PgIP1A-NEWHP"
      },
      "id": "PgIP1A-NEWHP",
      "execution_count": null,
      "outputs": []
    },
    {
      "cell_type": "code",
      "source": [
        "df.isnull().sum()"
      ],
      "metadata": {
        "colab": {
          "base_uri": "https://localhost:8080/"
        },
        "id": "WVmbIUMNEWEo",
        "outputId": "52adaf5d-1586-475d-8d5c-24d080ea0a56"
      },
      "id": "WVmbIUMNEWEo",
      "execution_count": null,
      "outputs": [
        {
          "output_type": "execute_result",
          "data": {
            "text/plain": [
              "Thermal comfort                                         0\n",
              "Thermal sensation acceptability                         0\n",
              "Thermal preference                                    497\n",
              "Thermal sensation                                       0\n",
              "Humidity sensation                                   4482\n",
              "Blind (curtain)                                     27273\n",
              "Fan                                                 27273\n",
              "Window                                              27273\n",
              "Door                                                27273\n",
              "Heater                                              27273\n",
              "Building type                                           0\n",
              "Cooling startegy_building level                         0\n",
              "Cooling startegy_operation mode for MM buildings        0\n",
              "Heating strategy_building level                         0\n",
              "Age                                                   497\n",
              "Air movement acceptability                              0\n",
              "Air movement preference                              4482\n",
              "Air temperature (C)                                     0\n",
              "Operative temperature (C)                               0\n",
              "Radiant temperature (C)                                 0\n",
              "Globe temperature (C)                                 498\n",
              "Relative humidity (%)                                   0\n",
              "Season                                                  0\n",
              "Sex                                                   497\n",
              "Country                                                 0\n",
              "dtype: int64"
            ]
          },
          "metadata": {},
          "execution_count": 35
        }
      ]
    },
    {
      "cell_type": "code",
      "source": [
        "df.info()"
      ],
      "metadata": {
        "colab": {
          "base_uri": "https://localhost:8080/"
        },
        "id": "yMrvwQ_7H9C-",
        "outputId": "11e81dbb-4b60-4e60-bb47-a414ed44331d"
      },
      "id": "yMrvwQ_7H9C-",
      "execution_count": null,
      "outputs": [
        {
          "output_type": "stream",
          "name": "stdout",
          "text": [
            "<class 'pandas.core.frame.DataFrame'>\n",
            "Int64Index: 27273 entries, 28676 to 101397\n",
            "Data columns (total 25 columns):\n",
            " #   Column                                            Non-Null Count  Dtype  \n",
            "---  ------                                            --------------  -----  \n",
            " 0   Thermal comfort                                   27273 non-null  float64\n",
            " 1   Thermal sensation acceptability                   27273 non-null  float64\n",
            " 2   Thermal preference                                26776 non-null  object \n",
            " 3   Thermal sensation                                 27273 non-null  float64\n",
            " 4   Humidity sensation                                22791 non-null  float64\n",
            " 5   Blind (curtain)                                   0 non-null      float64\n",
            " 6   Fan                                               0 non-null      float64\n",
            " 7   Window                                            0 non-null      float64\n",
            " 8   Door                                              0 non-null      float64\n",
            " 9   Heater                                            0 non-null      float64\n",
            " 10  Building type                                     27273 non-null  object \n",
            " 11  Cooling startegy_building level                   27273 non-null  object \n",
            " 12  Cooling startegy_operation mode for MM buildings  27273 non-null  object \n",
            " 13  Heating strategy_building level                   27273 non-null  object \n",
            " 14  Age                                               26776 non-null  float64\n",
            " 15  Air movement acceptability                        27273 non-null  float64\n",
            " 16  Air movement preference                           22791 non-null  object \n",
            " 17  Air temperature (C)                               27273 non-null  float64\n",
            " 18  Operative temperature (C)                         27273 non-null  float64\n",
            " 19  Radiant temperature (C)                           27273 non-null  float64\n",
            " 20  Globe temperature (C)                             26775 non-null  float64\n",
            " 21  Relative humidity (%)                             27273 non-null  float64\n",
            " 22  Season                                            27273 non-null  object \n",
            " 23  Sex                                               26776 non-null  object \n",
            " 24  Country                                           27273 non-null  object \n",
            "dtypes: float64(16), object(9)\n",
            "memory usage: 5.4+ MB\n"
          ]
        }
      ]
    },
    {
      "cell_type": "code",
      "source": [
        "# prompt: label encoder all object value\n",
        "\n",
        "from sklearn.preprocessing import LabelEncoder\n",
        "le = LabelEncoder()\n",
        "for col in df.columns:\n",
        "    if df[col].dtype == 'object':\n",
        "        df[col] = le.fit_transform(df[col])\n"
      ],
      "metadata": {
        "id": "z8AxjxpSBw63"
      },
      "id": "z8AxjxpSBw63",
      "execution_count": null,
      "outputs": []
    },
    {
      "cell_type": "code",
      "execution_count": null,
      "id": "4c23ac4a",
      "metadata": {
        "execution": {
          "iopub.execute_input": "2023-10-15T17:05:07.437146Z",
          "iopub.status.busy": "2023-10-15T17:05:07.436757Z",
          "iopub.status.idle": "2023-10-15T17:05:07.447048Z",
          "shell.execute_reply": "2023-10-15T17:05:07.445285Z"
        },
        "papermill": {
          "duration": 0.025553,
          "end_time": "2023-10-15T17:05:07.449641",
          "exception": false,
          "start_time": "2023-10-15T17:05:07.424088",
          "status": "completed"
        },
        "tags": [],
        "id": "4c23ac4a",
        "outputId": "3e6050b1-6ae9-49e1-c283-cdca60a259d9",
        "colab": {
          "base_uri": "https://localhost:8080/"
        }
      },
      "outputs": [
        {
          "output_type": "execute_result",
          "data": {
            "text/plain": [
              "4.0    27101\n",
              "3.0      143\n",
              "2.0       19\n",
              "1.0       10\n",
              "Name: Thermal comfort, dtype: int64"
            ]
          },
          "metadata": {},
          "execution_count": 38
        }
      ],
      "source": [
        "df['Thermal comfort'].value_counts()"
      ]
    },
    {
      "cell_type": "code",
      "source": [
        "df.isnull().sum()"
      ],
      "metadata": {
        "colab": {
          "base_uri": "https://localhost:8080/"
        },
        "id": "Rc5M0unWIxTN",
        "outputId": "55dac400-c1ce-4e5f-ef76-dd0a6d793eba"
      },
      "id": "Rc5M0unWIxTN",
      "execution_count": null,
      "outputs": [
        {
          "output_type": "execute_result",
          "data": {
            "text/plain": [
              "Thermal comfort                                         0\n",
              "Thermal sensation acceptability                         0\n",
              "Thermal preference                                      0\n",
              "Thermal sensation                                       0\n",
              "Humidity sensation                                   4482\n",
              "Blind (curtain)                                     27273\n",
              "Fan                                                 27273\n",
              "Window                                              27273\n",
              "Door                                                27273\n",
              "Heater                                              27273\n",
              "Building type                                           0\n",
              "Cooling startegy_building level                         0\n",
              "Cooling startegy_operation mode for MM buildings        0\n",
              "Heating strategy_building level                         0\n",
              "Age                                                   497\n",
              "Air movement acceptability                              0\n",
              "Air movement preference                                 0\n",
              "Air temperature (C)                                     0\n",
              "Operative temperature (C)                               0\n",
              "Radiant temperature (C)                                 0\n",
              "Globe temperature (C)                                 498\n",
              "Relative humidity (%)                                   0\n",
              "Season                                                  0\n",
              "Sex                                                     0\n",
              "Country                                                 0\n",
              "dtype: int64"
            ]
          },
          "metadata": {},
          "execution_count": 39
        }
      ]
    },
    {
      "cell_type": "code",
      "source": [
        "#fill the NaN Value of Zero\n",
        "df['Thermal preference'].fillna(0, inplace=True)\n",
        "df['Humidity sensation'].fillna(0, inplace=True)\n",
        "df['Blind (curtain)'].fillna(0, inplace=True)\n",
        "df['Fan'].fillna(0, inplace=True)\n",
        "df['Window'].fillna(0, inplace=True)\n",
        "df['Door'].fillna(0, inplace=True)\n",
        "df['Heater'].fillna(0, inplace=True)\n",
        "df['Age'].fillna(0, inplace=True)\n",
        "df['Air movement preference'].fillna(0, inplace=True)\n",
        "df['Globe temperature (C)'].fillna(0, inplace=True)\n",
        "df['Sex'].fillna(0, inplace=True)"
      ],
      "metadata": {
        "id": "QX1fHySVAMLc"
      },
      "id": "QX1fHySVAMLc",
      "execution_count": null,
      "outputs": []
    },
    {
      "cell_type": "code",
      "execution_count": null,
      "id": "00b446a2",
      "metadata": {
        "execution": {
          "iopub.execute_input": "2023-10-15T17:05:07.475231Z",
          "iopub.status.busy": "2023-10-15T17:05:07.474640Z",
          "iopub.status.idle": "2023-10-15T17:05:07.509083Z",
          "shell.execute_reply": "2023-10-15T17:05:07.507943Z"
        },
        "papermill": {
          "duration": 0.050481,
          "end_time": "2023-10-15T17:05:07.511695",
          "exception": false,
          "start_time": "2023-10-15T17:05:07.461214",
          "status": "completed"
        },
        "tags": [],
        "id": "00b446a2",
        "outputId": "5de7df29-de8f-492c-e08e-f7c77c4371a7",
        "colab": {
          "base_uri": "https://localhost:8080/"
        }
      },
      "outputs": [
        {
          "output_type": "stream",
          "name": "stdout",
          "text": [
            "<class 'pandas.core.frame.DataFrame'>\n",
            "Int64Index: 27273 entries, 28676 to 101397\n",
            "Data columns (total 25 columns):\n",
            " #   Column                                            Non-Null Count  Dtype  \n",
            "---  ------                                            --------------  -----  \n",
            " 0   Thermal comfort                                   27273 non-null  float64\n",
            " 1   Thermal sensation acceptability                   27273 non-null  float64\n",
            " 2   Thermal preference                                27273 non-null  int64  \n",
            " 3   Thermal sensation                                 27273 non-null  float64\n",
            " 4   Humidity sensation                                27273 non-null  float64\n",
            " 5   Blind (curtain)                                   27273 non-null  float64\n",
            " 6   Fan                                               27273 non-null  float64\n",
            " 7   Window                                            27273 non-null  float64\n",
            " 8   Door                                              27273 non-null  float64\n",
            " 9   Heater                                            27273 non-null  float64\n",
            " 10  Building type                                     27273 non-null  int64  \n",
            " 11  Cooling startegy_building level                   27273 non-null  int64  \n",
            " 12  Cooling startegy_operation mode for MM buildings  27273 non-null  int64  \n",
            " 13  Heating strategy_building level                   27273 non-null  int64  \n",
            " 14  Age                                               27273 non-null  float64\n",
            " 15  Air movement acceptability                        27273 non-null  float64\n",
            " 16  Air movement preference                           27273 non-null  int64  \n",
            " 17  Air temperature (C)                               27273 non-null  float64\n",
            " 18  Operative temperature (C)                         27273 non-null  float64\n",
            " 19  Radiant temperature (C)                           27273 non-null  float64\n",
            " 20  Globe temperature (C)                             27273 non-null  float64\n",
            " 21  Relative humidity (%)                             27273 non-null  float64\n",
            " 22  Season                                            27273 non-null  int64  \n",
            " 23  Sex                                               27273 non-null  int64  \n",
            " 24  Country                                           27273 non-null  int64  \n",
            "dtypes: float64(16), int64(9)\n",
            "memory usage: 5.4 MB\n"
          ]
        }
      ],
      "source": [
        "df.info()"
      ]
    },
    {
      "cell_type": "markdown",
      "source": [],
      "metadata": {
        "id": "wFMITLJ_358H"
      },
      "id": "wFMITLJ_358H"
    },
    {
      "cell_type": "markdown",
      "id": "eca55e34",
      "metadata": {
        "papermill": {
          "duration": 0.01209,
          "end_time": "2023-10-15T17:05:07.633712",
          "exception": false,
          "start_time": "2023-10-15T17:05:07.621622",
          "status": "completed"
        },
        "tags": [],
        "id": "eca55e34"
      },
      "source": [
        "# Data Cleaning"
      ]
    },
    {
      "cell_type": "code",
      "execution_count": null,
      "id": "7a0f866b",
      "metadata": {
        "execution": {
          "iopub.execute_input": "2023-10-15T17:05:07.661267Z",
          "iopub.status.busy": "2023-10-15T17:05:07.660597Z",
          "iopub.status.idle": "2023-10-15T17:05:07.685093Z",
          "shell.execute_reply": "2023-10-15T17:05:07.684197Z"
        },
        "papermill": {
          "duration": 0.041913,
          "end_time": "2023-10-15T17:05:07.688177",
          "exception": false,
          "start_time": "2023-10-15T17:05:07.646264",
          "status": "completed"
        },
        "tags": [],
        "id": "7a0f866b",
        "outputId": "129546d7-74e2-4f95-a971-661502429a45",
        "colab": {
          "base_uri": "https://localhost:8080/"
        }
      },
      "outputs": [
        {
          "output_type": "execute_result",
          "data": {
            "text/plain": [
              "Thermal comfort                                     0\n",
              "Thermal sensation acceptability                     0\n",
              "Thermal preference                                  0\n",
              "Thermal sensation                                   0\n",
              "Humidity sensation                                  0\n",
              "Blind (curtain)                                     0\n",
              "Fan                                                 0\n",
              "Window                                              0\n",
              "Door                                                0\n",
              "Heater                                              0\n",
              "Building type                                       0\n",
              "Cooling startegy_building level                     0\n",
              "Cooling startegy_operation mode for MM buildings    0\n",
              "Heating strategy_building level                     0\n",
              "Age                                                 0\n",
              "Air movement acceptability                          0\n",
              "Air movement preference                             0\n",
              "Air temperature (C)                                 0\n",
              "Operative temperature (C)                           0\n",
              "Radiant temperature (C)                             0\n",
              "Globe temperature (C)                               0\n",
              "Relative humidity (%)                               0\n",
              "Season                                              0\n",
              "Sex                                                 0\n",
              "Country                                             0\n",
              "dtype: int64"
            ]
          },
          "metadata": {},
          "execution_count": 42
        }
      ],
      "source": [
        "df.isnull().sum()\n"
      ]
    },
    {
      "cell_type": "code",
      "execution_count": null,
      "id": "ca69002f",
      "metadata": {
        "execution": {
          "iopub.execute_input": "2023-10-15T17:05:07.946530Z",
          "iopub.status.busy": "2023-10-15T17:05:07.945753Z",
          "iopub.status.idle": "2023-10-15T17:05:08.173461Z",
          "shell.execute_reply": "2023-10-15T17:05:08.172604Z"
        },
        "papermill": {
          "duration": 0.245027,
          "end_time": "2023-10-15T17:05:08.175891",
          "exception": false,
          "start_time": "2023-10-15T17:05:07.930864",
          "status": "completed"
        },
        "tags": [],
        "id": "ca69002f",
        "outputId": "e5a729a7-c40a-4f9e-ccff-1ac88c668042",
        "colab": {
          "base_uri": "https://localhost:8080/"
        }
      },
      "outputs": [
        {
          "output_type": "stream",
          "name": "stdout",
          "text": [
            "There are 6133 duplicates data\n"
          ]
        }
      ],
      "source": [
        "print(f\"There are {df.duplicated().sum()} duplicates data\")\n"
      ]
    },
    {
      "cell_type": "code",
      "source": [
        "\n",
        "df.drop_duplicates(inplace=True)\n"
      ],
      "metadata": {
        "id": "qoKpzfKdCATW"
      },
      "id": "qoKpzfKdCATW",
      "execution_count": null,
      "outputs": []
    },
    {
      "cell_type": "code",
      "source": [
        "print(f\"There are {df.duplicated().sum()} duplicates data\")\n"
      ],
      "metadata": {
        "colab": {
          "base_uri": "https://localhost:8080/"
        },
        "id": "Eo1fXGLMCEPQ",
        "outputId": "dc9ee2fb-b083-4e14-cfe3-a77704238dc1"
      },
      "id": "Eo1fXGLMCEPQ",
      "execution_count": null,
      "outputs": [
        {
          "output_type": "stream",
          "name": "stdout",
          "text": [
            "There are 0 duplicates data\n"
          ]
        }
      ]
    },
    {
      "cell_type": "code",
      "source": [
        "df.head()"
      ],
      "metadata": {
        "colab": {
          "base_uri": "https://localhost:8080/",
          "height": 290
        },
        "id": "mVq1RFHqOv3n",
        "outputId": "8ca2dcab-e209-45c9-b556-d77471d91d97"
      },
      "id": "mVq1RFHqOv3n",
      "execution_count": null,
      "outputs": [
        {
          "output_type": "execute_result",
          "data": {
            "text/plain": [
              "       Thermal comfort  Thermal sensation acceptability  Thermal preference  \\\n",
              "28676              4.0                              1.0                   2   \n",
              "28677              4.0                              1.0                   1   \n",
              "28678              4.0                              1.0                   0   \n",
              "28679              4.0                              1.0                   0   \n",
              "28680              4.0                              1.0                   1   \n",
              "\n",
              "       Thermal sensation  Humidity sensation  Blind (curtain)  Fan  Window  \\\n",
              "28676                1.0                 2.0              0.0  0.0     0.0   \n",
              "28677                1.0                 2.0              0.0  0.0     0.0   \n",
              "28678                3.0                 2.0              0.0  0.0     0.0   \n",
              "28679                2.0                 2.0              0.0  0.0     0.0   \n",
              "28680                2.0                 2.0              0.0  0.0     0.0   \n",
              "\n",
              "       Door  Heater  ...  Air movement acceptability  Air movement preference  \\\n",
              "28676   0.0     0.0  ...                         1.0                        0   \n",
              "28677   0.0     0.0  ...                         1.0                        0   \n",
              "28678   0.0     0.0  ...                         1.0                        0   \n",
              "28679   0.0     0.0  ...                         1.0                        0   \n",
              "28680   0.0     0.0  ...                         1.0                        0   \n",
              "\n",
              "       Air temperature (C)  Operative temperature (C)  \\\n",
              "28676                 23.5                       20.8   \n",
              "28677                 19.9                       20.8   \n",
              "28678                 20.7                       20.8   \n",
              "28679                 22.1                       20.8   \n",
              "28680                 22.1                       20.8   \n",
              "\n",
              "       Radiant temperature (C)  Globe temperature (C)  Relative humidity (%)  \\\n",
              "28676                     26.6                   24.0                   37.9   \n",
              "28677                     26.6                   24.0                   39.7   \n",
              "28678                     26.6                   24.0                   42.8   \n",
              "28679                     26.6                   24.0                   39.7   \n",
              "28680                     26.6                   24.0                   39.7   \n",
              "\n",
              "       Season  Sex  Country  \n",
              "28676       3    1        0  \n",
              "28677       3    1        0  \n",
              "28678       3    1        0  \n",
              "28679       3    1        0  \n",
              "28680       3    1        0  \n",
              "\n",
              "[5 rows x 25 columns]"
            ],
            "text/html": [
              "\n",
              "  <div id=\"df-3f7a764a-2daa-4af2-b0a8-c852fb391f1d\" class=\"colab-df-container\">\n",
              "    <div>\n",
              "<style scoped>\n",
              "    .dataframe tbody tr th:only-of-type {\n",
              "        vertical-align: middle;\n",
              "    }\n",
              "\n",
              "    .dataframe tbody tr th {\n",
              "        vertical-align: top;\n",
              "    }\n",
              "\n",
              "    .dataframe thead th {\n",
              "        text-align: right;\n",
              "    }\n",
              "</style>\n",
              "<table border=\"1\" class=\"dataframe\">\n",
              "  <thead>\n",
              "    <tr style=\"text-align: right;\">\n",
              "      <th></th>\n",
              "      <th>Thermal comfort</th>\n",
              "      <th>Thermal sensation acceptability</th>\n",
              "      <th>Thermal preference</th>\n",
              "      <th>Thermal sensation</th>\n",
              "      <th>Humidity sensation</th>\n",
              "      <th>Blind (curtain)</th>\n",
              "      <th>Fan</th>\n",
              "      <th>Window</th>\n",
              "      <th>Door</th>\n",
              "      <th>Heater</th>\n",
              "      <th>...</th>\n",
              "      <th>Air movement acceptability</th>\n",
              "      <th>Air movement preference</th>\n",
              "      <th>Air temperature (C)</th>\n",
              "      <th>Operative temperature (C)</th>\n",
              "      <th>Radiant temperature (C)</th>\n",
              "      <th>Globe temperature (C)</th>\n",
              "      <th>Relative humidity (%)</th>\n",
              "      <th>Season</th>\n",
              "      <th>Sex</th>\n",
              "      <th>Country</th>\n",
              "    </tr>\n",
              "  </thead>\n",
              "  <tbody>\n",
              "    <tr>\n",
              "      <th>28676</th>\n",
              "      <td>4.0</td>\n",
              "      <td>1.0</td>\n",
              "      <td>2</td>\n",
              "      <td>1.0</td>\n",
              "      <td>2.0</td>\n",
              "      <td>0.0</td>\n",
              "      <td>0.0</td>\n",
              "      <td>0.0</td>\n",
              "      <td>0.0</td>\n",
              "      <td>0.0</td>\n",
              "      <td>...</td>\n",
              "      <td>1.0</td>\n",
              "      <td>0</td>\n",
              "      <td>23.5</td>\n",
              "      <td>20.8</td>\n",
              "      <td>26.6</td>\n",
              "      <td>24.0</td>\n",
              "      <td>37.9</td>\n",
              "      <td>3</td>\n",
              "      <td>1</td>\n",
              "      <td>0</td>\n",
              "    </tr>\n",
              "    <tr>\n",
              "      <th>28677</th>\n",
              "      <td>4.0</td>\n",
              "      <td>1.0</td>\n",
              "      <td>1</td>\n",
              "      <td>1.0</td>\n",
              "      <td>2.0</td>\n",
              "      <td>0.0</td>\n",
              "      <td>0.0</td>\n",
              "      <td>0.0</td>\n",
              "      <td>0.0</td>\n",
              "      <td>0.0</td>\n",
              "      <td>...</td>\n",
              "      <td>1.0</td>\n",
              "      <td>0</td>\n",
              "      <td>19.9</td>\n",
              "      <td>20.8</td>\n",
              "      <td>26.6</td>\n",
              "      <td>24.0</td>\n",
              "      <td>39.7</td>\n",
              "      <td>3</td>\n",
              "      <td>1</td>\n",
              "      <td>0</td>\n",
              "    </tr>\n",
              "    <tr>\n",
              "      <th>28678</th>\n",
              "      <td>4.0</td>\n",
              "      <td>1.0</td>\n",
              "      <td>0</td>\n",
              "      <td>3.0</td>\n",
              "      <td>2.0</td>\n",
              "      <td>0.0</td>\n",
              "      <td>0.0</td>\n",
              "      <td>0.0</td>\n",
              "      <td>0.0</td>\n",
              "      <td>0.0</td>\n",
              "      <td>...</td>\n",
              "      <td>1.0</td>\n",
              "      <td>0</td>\n",
              "      <td>20.7</td>\n",
              "      <td>20.8</td>\n",
              "      <td>26.6</td>\n",
              "      <td>24.0</td>\n",
              "      <td>42.8</td>\n",
              "      <td>3</td>\n",
              "      <td>1</td>\n",
              "      <td>0</td>\n",
              "    </tr>\n",
              "    <tr>\n",
              "      <th>28679</th>\n",
              "      <td>4.0</td>\n",
              "      <td>1.0</td>\n",
              "      <td>0</td>\n",
              "      <td>2.0</td>\n",
              "      <td>2.0</td>\n",
              "      <td>0.0</td>\n",
              "      <td>0.0</td>\n",
              "      <td>0.0</td>\n",
              "      <td>0.0</td>\n",
              "      <td>0.0</td>\n",
              "      <td>...</td>\n",
              "      <td>1.0</td>\n",
              "      <td>0</td>\n",
              "      <td>22.1</td>\n",
              "      <td>20.8</td>\n",
              "      <td>26.6</td>\n",
              "      <td>24.0</td>\n",
              "      <td>39.7</td>\n",
              "      <td>3</td>\n",
              "      <td>1</td>\n",
              "      <td>0</td>\n",
              "    </tr>\n",
              "    <tr>\n",
              "      <th>28680</th>\n",
              "      <td>4.0</td>\n",
              "      <td>1.0</td>\n",
              "      <td>1</td>\n",
              "      <td>2.0</td>\n",
              "      <td>2.0</td>\n",
              "      <td>0.0</td>\n",
              "      <td>0.0</td>\n",
              "      <td>0.0</td>\n",
              "      <td>0.0</td>\n",
              "      <td>0.0</td>\n",
              "      <td>...</td>\n",
              "      <td>1.0</td>\n",
              "      <td>0</td>\n",
              "      <td>22.1</td>\n",
              "      <td>20.8</td>\n",
              "      <td>26.6</td>\n",
              "      <td>24.0</td>\n",
              "      <td>39.7</td>\n",
              "      <td>3</td>\n",
              "      <td>1</td>\n",
              "      <td>0</td>\n",
              "    </tr>\n",
              "  </tbody>\n",
              "</table>\n",
              "<p>5 rows × 25 columns</p>\n",
              "</div>\n",
              "    <div class=\"colab-df-buttons\">\n",
              "\n",
              "  <div class=\"colab-df-container\">\n",
              "    <button class=\"colab-df-convert\" onclick=\"convertToInteractive('df-3f7a764a-2daa-4af2-b0a8-c852fb391f1d')\"\n",
              "            title=\"Convert this dataframe to an interactive table.\"\n",
              "            style=\"display:none;\">\n",
              "\n",
              "  <svg xmlns=\"http://www.w3.org/2000/svg\" height=\"24px\" viewBox=\"0 -960 960 960\">\n",
              "    <path d=\"M120-120v-720h720v720H120Zm60-500h600v-160H180v160Zm220 220h160v-160H400v160Zm0 220h160v-160H400v160ZM180-400h160v-160H180v160Zm440 0h160v-160H620v160ZM180-180h160v-160H180v160Zm440 0h160v-160H620v160Z\"/>\n",
              "  </svg>\n",
              "    </button>\n",
              "\n",
              "  <style>\n",
              "    .colab-df-container {\n",
              "      display:flex;\n",
              "      gap: 12px;\n",
              "    }\n",
              "\n",
              "    .colab-df-convert {\n",
              "      background-color: #E8F0FE;\n",
              "      border: none;\n",
              "      border-radius: 50%;\n",
              "      cursor: pointer;\n",
              "      display: none;\n",
              "      fill: #1967D2;\n",
              "      height: 32px;\n",
              "      padding: 0 0 0 0;\n",
              "      width: 32px;\n",
              "    }\n",
              "\n",
              "    .colab-df-convert:hover {\n",
              "      background-color: #E2EBFA;\n",
              "      box-shadow: 0px 1px 2px rgba(60, 64, 67, 0.3), 0px 1px 3px 1px rgba(60, 64, 67, 0.15);\n",
              "      fill: #174EA6;\n",
              "    }\n",
              "\n",
              "    .colab-df-buttons div {\n",
              "      margin-bottom: 4px;\n",
              "    }\n",
              "\n",
              "    [theme=dark] .colab-df-convert {\n",
              "      background-color: #3B4455;\n",
              "      fill: #D2E3FC;\n",
              "    }\n",
              "\n",
              "    [theme=dark] .colab-df-convert:hover {\n",
              "      background-color: #434B5C;\n",
              "      box-shadow: 0px 1px 3px 1px rgba(0, 0, 0, 0.15);\n",
              "      filter: drop-shadow(0px 1px 2px rgba(0, 0, 0, 0.3));\n",
              "      fill: #FFFFFF;\n",
              "    }\n",
              "  </style>\n",
              "\n",
              "    <script>\n",
              "      const buttonEl =\n",
              "        document.querySelector('#df-3f7a764a-2daa-4af2-b0a8-c852fb391f1d button.colab-df-convert');\n",
              "      buttonEl.style.display =\n",
              "        google.colab.kernel.accessAllowed ? 'block' : 'none';\n",
              "\n",
              "      async function convertToInteractive(key) {\n",
              "        const element = document.querySelector('#df-3f7a764a-2daa-4af2-b0a8-c852fb391f1d');\n",
              "        const dataTable =\n",
              "          await google.colab.kernel.invokeFunction('convertToInteractive',\n",
              "                                                    [key], {});\n",
              "        if (!dataTable) return;\n",
              "\n",
              "        const docLinkHtml = 'Like what you see? Visit the ' +\n",
              "          '<a target=\"_blank\" href=https://colab.research.google.com/notebooks/data_table.ipynb>data table notebook</a>'\n",
              "          + ' to learn more about interactive tables.';\n",
              "        element.innerHTML = '';\n",
              "        dataTable['output_type'] = 'display_data';\n",
              "        await google.colab.output.renderOutput(dataTable, element);\n",
              "        const docLink = document.createElement('div');\n",
              "        docLink.innerHTML = docLinkHtml;\n",
              "        element.appendChild(docLink);\n",
              "      }\n",
              "    </script>\n",
              "  </div>\n",
              "\n",
              "\n",
              "<div id=\"df-596dd7d3-6a22-4dec-893a-1f6c8b793e11\">\n",
              "  <button class=\"colab-df-quickchart\" onclick=\"quickchart('df-596dd7d3-6a22-4dec-893a-1f6c8b793e11')\"\n",
              "            title=\"Suggest charts\"\n",
              "            style=\"display:none;\">\n",
              "\n",
              "<svg xmlns=\"http://www.w3.org/2000/svg\" height=\"24px\"viewBox=\"0 0 24 24\"\n",
              "     width=\"24px\">\n",
              "    <g>\n",
              "        <path d=\"M19 3H5c-1.1 0-2 .9-2 2v14c0 1.1.9 2 2 2h14c1.1 0 2-.9 2-2V5c0-1.1-.9-2-2-2zM9 17H7v-7h2v7zm4 0h-2V7h2v10zm4 0h-2v-4h2v4z\"/>\n",
              "    </g>\n",
              "</svg>\n",
              "  </button>\n",
              "\n",
              "<style>\n",
              "  .colab-df-quickchart {\n",
              "      --bg-color: #E8F0FE;\n",
              "      --fill-color: #1967D2;\n",
              "      --hover-bg-color: #E2EBFA;\n",
              "      --hover-fill-color: #174EA6;\n",
              "      --disabled-fill-color: #AAA;\n",
              "      --disabled-bg-color: #DDD;\n",
              "  }\n",
              "\n",
              "  [theme=dark] .colab-df-quickchart {\n",
              "      --bg-color: #3B4455;\n",
              "      --fill-color: #D2E3FC;\n",
              "      --hover-bg-color: #434B5C;\n",
              "      --hover-fill-color: #FFFFFF;\n",
              "      --disabled-bg-color: #3B4455;\n",
              "      --disabled-fill-color: #666;\n",
              "  }\n",
              "\n",
              "  .colab-df-quickchart {\n",
              "    background-color: var(--bg-color);\n",
              "    border: none;\n",
              "    border-radius: 50%;\n",
              "    cursor: pointer;\n",
              "    display: none;\n",
              "    fill: var(--fill-color);\n",
              "    height: 32px;\n",
              "    padding: 0;\n",
              "    width: 32px;\n",
              "  }\n",
              "\n",
              "  .colab-df-quickchart:hover {\n",
              "    background-color: var(--hover-bg-color);\n",
              "    box-shadow: 0 1px 2px rgba(60, 64, 67, 0.3), 0 1px 3px 1px rgba(60, 64, 67, 0.15);\n",
              "    fill: var(--button-hover-fill-color);\n",
              "  }\n",
              "\n",
              "  .colab-df-quickchart-complete:disabled,\n",
              "  .colab-df-quickchart-complete:disabled:hover {\n",
              "    background-color: var(--disabled-bg-color);\n",
              "    fill: var(--disabled-fill-color);\n",
              "    box-shadow: none;\n",
              "  }\n",
              "\n",
              "  .colab-df-spinner {\n",
              "    border: 2px solid var(--fill-color);\n",
              "    border-color: transparent;\n",
              "    border-bottom-color: var(--fill-color);\n",
              "    animation:\n",
              "      spin 1s steps(1) infinite;\n",
              "  }\n",
              "\n",
              "  @keyframes spin {\n",
              "    0% {\n",
              "      border-color: transparent;\n",
              "      border-bottom-color: var(--fill-color);\n",
              "      border-left-color: var(--fill-color);\n",
              "    }\n",
              "    20% {\n",
              "      border-color: transparent;\n",
              "      border-left-color: var(--fill-color);\n",
              "      border-top-color: var(--fill-color);\n",
              "    }\n",
              "    30% {\n",
              "      border-color: transparent;\n",
              "      border-left-color: var(--fill-color);\n",
              "      border-top-color: var(--fill-color);\n",
              "      border-right-color: var(--fill-color);\n",
              "    }\n",
              "    40% {\n",
              "      border-color: transparent;\n",
              "      border-right-color: var(--fill-color);\n",
              "      border-top-color: var(--fill-color);\n",
              "    }\n",
              "    60% {\n",
              "      border-color: transparent;\n",
              "      border-right-color: var(--fill-color);\n",
              "    }\n",
              "    80% {\n",
              "      border-color: transparent;\n",
              "      border-right-color: var(--fill-color);\n",
              "      border-bottom-color: var(--fill-color);\n",
              "    }\n",
              "    90% {\n",
              "      border-color: transparent;\n",
              "      border-bottom-color: var(--fill-color);\n",
              "    }\n",
              "  }\n",
              "</style>\n",
              "\n",
              "  <script>\n",
              "    async function quickchart(key) {\n",
              "      const quickchartButtonEl =\n",
              "        document.querySelector('#' + key + ' button');\n",
              "      quickchartButtonEl.disabled = true;  // To prevent multiple clicks.\n",
              "      quickchartButtonEl.classList.add('colab-df-spinner');\n",
              "      try {\n",
              "        const charts = await google.colab.kernel.invokeFunction(\n",
              "            'suggestCharts', [key], {});\n",
              "      } catch (error) {\n",
              "        console.error('Error during call to suggestCharts:', error);\n",
              "      }\n",
              "      quickchartButtonEl.classList.remove('colab-df-spinner');\n",
              "      quickchartButtonEl.classList.add('colab-df-quickchart-complete');\n",
              "    }\n",
              "    (() => {\n",
              "      let quickchartButtonEl =\n",
              "        document.querySelector('#df-596dd7d3-6a22-4dec-893a-1f6c8b793e11 button');\n",
              "      quickchartButtonEl.style.display =\n",
              "        google.colab.kernel.accessAllowed ? 'block' : 'none';\n",
              "    })();\n",
              "  </script>\n",
              "</div>\n",
              "\n",
              "    </div>\n",
              "  </div>\n"
            ]
          },
          "metadata": {},
          "execution_count": 46
        }
      ]
    },
    {
      "cell_type": "code",
      "source": [
        "# prompt: drop country\n",
        "df.drop(columns=['Country'], inplace=True)\n"
      ],
      "metadata": {
        "id": "-JEHCioiOzfO"
      },
      "id": "-JEHCioiOzfO",
      "execution_count": null,
      "outputs": []
    },
    {
      "cell_type": "code",
      "source": [
        "# prompt: define x and y\n",
        "\n",
        "X = df.drop(columns=['Thermal comfort'])\n",
        "y = df['Thermal comfort']\n"
      ],
      "metadata": {
        "id": "Q0dqMxssPGJ2"
      },
      "id": "Q0dqMxssPGJ2",
      "execution_count": null,
      "outputs": []
    },
    {
      "cell_type": "code",
      "source": [
        "y = y.astype(int)"
      ],
      "metadata": {
        "id": "ItFo_768PrFI"
      },
      "id": "ItFo_768PrFI",
      "execution_count": null,
      "outputs": []
    },
    {
      "cell_type": "code",
      "source": [
        "# prompt: split data set into 80 20\n",
        "\n",
        "X_train, X_test, y_train, y_test = train_test_split(X, y, test_size=0.2, random_state=42)\n"
      ],
      "metadata": {
        "id": "9RqIbQnkPKP-"
      },
      "id": "9RqIbQnkPKP-",
      "execution_count": null,
      "outputs": []
    },
    {
      "cell_type": "code",
      "source": [
        "from sklearn.model_selection import train_test_split\n",
        "from sklearn.ensemble import RandomForestClassifier, AdaBoostClassifier, BaggingClassifier, ExtraTreesClassifier, GradientBoostingClassifier, VotingClassifier\n",
        "from sklearn.linear_model import LogisticRegression\n",
        "from sklearn.svm import SVC\n",
        "from sklearn.metrics import accuracy_score\n",
        "from sklearn.preprocessing import StandardScaler\n",
        "from xgboost import XGBClassifier\n",
        "from sklearn.tree import DecisionTreeClassifier\n",
        "\n",
        "# Assuming X, y are defined and contain your feature and target data\n",
        "\n",
        "# Split the data into training and testing sets\n",
        "\n",
        "\n",
        "\n",
        "# Create the base models\n",
        "rf = ('rf', RandomForestClassifier()) #maybe rakhbo na\n",
        "gb = ('gb', GradientBoostingClassifier())\n",
        "lr = ('lr', LogisticRegression())\n",
        "svc = ('svc', SVC())\n",
        "dt = ('dt', DecisionTreeClassifier())# maybe rakhbo na\n",
        "\n",
        "# Create the hybrid ensemble model\n",
        "hybrid = VotingClassifier(estimators=[rf, gb, lr, svc, dt], voting='hard')\n",
        "\n",
        "# Fit the hybrid ensemble model to the training data\n",
        "hybrid.fit(X_train, y_train)\n",
        "\n",
        "# Make predictions on the test data\n",
        "y_pred = hybrid.predict(X_test)\n",
        "\n",
        "# Evaluate the hybrid ensemble model\n",
        "accuracy = accuracy_score(y_test, y_pred)\n",
        "print(\"Accuracy:\", accuracy)\n",
        "\n",
        "# Compare the hybrid ensemble model to the base models\n",
        "print(\"Base models:\")\n",
        "for (name, model) in [rf, gb, lr, svc, dt]:\n",
        "    model.fit(X_train, y_train)\n",
        "    y_pred = model.predict(X_test)\n",
        "    accuracy = accuracy_score(y_test, y_pred)\n",
        "    print(name, \":\", accuracy)\n",
        "\n",
        "# The hybrid ensemble model outperforms all of the base models in terms of accuracy.\n"
      ],
      "metadata": {
        "colab": {
          "base_uri": "https://localhost:8080/"
        },
        "id": "5dkVr2s0LkKt",
        "outputId": "af889bb4-6b3b-4290-c1fe-c11b959eeb69"
      },
      "id": "5dkVr2s0LkKt",
      "execution_count": null,
      "outputs": [
        {
          "output_type": "stream",
          "name": "stderr",
          "text": [
            "/usr/local/lib/python3.10/dist-packages/sklearn/linear_model/_logistic.py:458: ConvergenceWarning: lbfgs failed to converge (status=1):\n",
            "STOP: TOTAL NO. of ITERATIONS REACHED LIMIT.\n",
            "\n",
            "Increase the number of iterations (max_iter) or scale the data as shown in:\n",
            "    https://scikit-learn.org/stable/modules/preprocessing.html\n",
            "Please also refer to the documentation for alternative solver options:\n",
            "    https://scikit-learn.org/stable/modules/linear_model.html#logistic-regression\n",
            "  n_iter_i = _check_optimize_result(\n"
          ]
        },
        {
          "output_type": "stream",
          "name": "stdout",
          "text": [
            "Accuracy: 0.9914853358561968\n",
            "Base models:\n",
            "rf : 0.9926679280983917\n",
            "gb : 0.9898297067171239\n"
          ]
        },
        {
          "output_type": "stream",
          "name": "stderr",
          "text": [
            "/usr/local/lib/python3.10/dist-packages/sklearn/linear_model/_logistic.py:458: ConvergenceWarning: lbfgs failed to converge (status=1):\n",
            "STOP: TOTAL NO. of ITERATIONS REACHED LIMIT.\n",
            "\n",
            "Increase the number of iterations (max_iter) or scale the data as shown in:\n",
            "    https://scikit-learn.org/stable/modules/preprocessing.html\n",
            "Please also refer to the documentation for alternative solver options:\n",
            "    https://scikit-learn.org/stable/modules/linear_model.html#logistic-regression\n",
            "  n_iter_i = _check_optimize_result(\n"
          ]
        },
        {
          "output_type": "stream",
          "name": "stdout",
          "text": [
            "lr : 0.9914853358561968\n",
            "svc : 0.990302743614002\n",
            "dt : 0.9917218543046358\n"
          ]
        }
      ]
    },
    {
      "cell_type": "code",
      "source": [
        "from sklearn.model_selection import train_test_split, GridSearchCV\n",
        "from sklearn.ensemble import RandomForestClassifier\n",
        "from sklearn.datasets import make_classification\n",
        "\n",
        "rf = RandomForestClassifier()\n",
        "\n",
        "# Define hyperparameters to search through\n",
        "param_grid = {\n",
        "    'n_estimators': [50, 100, 150],\n",
        "    'max_depth': [3, 4, 5]\n",
        "    # You can add more RandomForest-specific parameters here\n",
        "}\n",
        "\n",
        "# Perform Grid Search Cross Validation\n",
        "grid_search = GridSearchCV(rf, param_grid, cv=5, scoring='accuracy')\n",
        "grid_search.fit(X_train, y_train)\n",
        "\n",
        "# Get the best parameters and the best score\n",
        "best_params = grid_search.best_params_\n",
        "best_score = grid_search.best_score_\n",
        "\n",
        "print(\"Best Parameters:\", best_params)\n",
        "print(\"Best Score:\", best_score)\n",
        "\n",
        "# Fit the model with best parameters on the entire training set\n",
        "best_rf = grid_search.best_estimator_\n",
        "best_rf.fit(X_train, y_train)\n",
        "\n",
        "# Evaluate the model on the test set\n",
        "test_accuracy = best_rf.score(X_test, y_test)\n",
        "print(\"Test Accuracy:\", test_accuracy)\n"
      ],
      "metadata": {
        "colab": {
          "base_uri": "https://localhost:8080/"
        },
        "id": "xGRIn1xGLkNU",
        "outputId": "a2ce4de4-ff17-4388-9f73-25e2d865da87"
      },
      "id": "xGRIn1xGLkNU",
      "execution_count": null,
      "outputs": [
        {
          "output_type": "stream",
          "name": "stdout",
          "text": [
            "Best Parameters: {'max_depth': 5, 'n_estimators': 100}\n",
            "Best Score: 0.9941462277121161\n",
            "Test Accuracy: 0.9917218543046358\n"
          ]
        }
      ]
    },
    {
      "cell_type": "code",
      "source": [
        "# Use a smaller number of neighbors\n",
        "from imblearn.over_sampling import SMOTE\n",
        "sm = SMOTE(random_state=42, k_neighbors=4)\n",
        "X_train_smote, y_train_smote = sm.fit_resample(X_train, y_train)"
      ],
      "metadata": {
        "id": "mz-sUoGjOWko"
      },
      "id": "mz-sUoGjOWko",
      "execution_count": null,
      "outputs": []
    },
    {
      "cell_type": "code",
      "source": [
        "print('After SMOTE:')\n",
        "print(Counter(y_train_smote))"
      ],
      "metadata": {
        "colab": {
          "base_uri": "https://localhost:8080/"
        },
        "id": "9Tlm2FJaLkSo",
        "outputId": "99808ecb-33b3-42b7-b03e-ef3951beb25f"
      },
      "id": "9Tlm2FJaLkSo",
      "execution_count": null,
      "outputs": [
        {
          "output_type": "stream",
          "name": "stdout",
          "text": [
            "After SMOTE:\n",
            "Counter({4: 16781, 3: 16781, 1: 16781, 2: 16781})\n"
          ]
        }
      ]
    },
    {
      "cell_type": "code",
      "source": [
        "X_train_smote"
      ],
      "metadata": {
        "colab": {
          "base_uri": "https://localhost:8080/",
          "height": 478
        },
        "id": "2XgzafbtLkVo",
        "outputId": "b9c3fc73-2fde-4e15-d275-629a059fc090"
      },
      "id": "2XgzafbtLkVo",
      "execution_count": null,
      "outputs": [
        {
          "output_type": "execute_result",
          "data": {
            "text/plain": [
              "       Thermal sensation acceptability  Thermal preference  Thermal sensation  \\\n",
              "0                             0.000000                   2          -3.000000   \n",
              "1                             0.000000                   0           2.000000   \n",
              "2                             0.000000                   2          -2.000000   \n",
              "3                             1.000000                   2          -1.000000   \n",
              "4                             1.000000                   2          -1.000000   \n",
              "...                                ...                 ...                ...   \n",
              "67119                         1.000000                   1          -1.000000   \n",
              "67120                         0.168662                   0           1.831338   \n",
              "67121                         1.000000                   1           0.000000   \n",
              "67122                         1.000000                   2          -1.000000   \n",
              "67123                         1.000000                   0           0.268265   \n",
              "\n",
              "       Humidity sensation  Blind (curtain)  Fan  Window  Door  Heater  \\\n",
              "0                2.000000              0.0  0.0     0.0   0.0     0.0   \n",
              "1                2.000000              0.0  0.0     0.0   0.0     0.0   \n",
              "2                2.000000              0.0  0.0     0.0   0.0     0.0   \n",
              "3                2.000000              0.0  0.0     0.0   0.0     0.0   \n",
              "4                2.000000              0.0  0.0     0.0   0.0     0.0   \n",
              "...                   ...              ...  ...     ...   ...     ...   \n",
              "67119            0.000000              0.0  0.0     0.0   0.0     0.0   \n",
              "67120            0.168662              0.0  0.0     0.0   0.0     0.0   \n",
              "67121            1.503765              0.0  0.0     0.0   0.0     0.0   \n",
              "67122            0.000000              0.0  0.0     0.0   0.0     0.0   \n",
              "67123            1.000000              0.0  0.0     0.0   0.0     0.0   \n",
              "\n",
              "       Building type  ...        Age  Air movement acceptability  \\\n",
              "0                  2  ...  15.000000                    1.000000   \n",
              "1                  2  ...  15.000000                    1.000000   \n",
              "2                  2  ...  15.000000                    1.000000   \n",
              "3                  2  ...  15.000000                    1.000000   \n",
              "4                  2  ...  15.000000                    1.000000   \n",
              "...              ...  ...        ...                         ...   \n",
              "67119              1  ...  60.000000                    1.000000   \n",
              "67120              1  ...  60.000000                    0.168662   \n",
              "67121              1  ...  40.000000                    1.000000   \n",
              "67122              1  ...  40.000000                    1.000000   \n",
              "67123              1  ...   7.616764                    0.616764   \n",
              "\n",
              "       Air movement preference  Air temperature (C)  \\\n",
              "0                            0            21.800000   \n",
              "1                            0            24.400000   \n",
              "2                            0            22.700000   \n",
              "3                            0            23.300000   \n",
              "4                            0            23.800000   \n",
              "...                        ...                  ...   \n",
              "67119                        2            22.128785   \n",
              "67120                        1            20.148204   \n",
              "67121                        1            22.563931   \n",
              "67122                        2            18.937616   \n",
              "67123                        1            19.184447   \n",
              "\n",
              "       Operative temperature (C)  Radiant temperature (C)  \\\n",
              "0                           20.8                     26.6   \n",
              "1                           20.8                     26.6   \n",
              "2                           20.8                     26.6   \n",
              "3                           20.8                     26.6   \n",
              "4                           20.8                     26.6   \n",
              "...                          ...                      ...   \n",
              "67119                       20.8                     21.2   \n",
              "67120                       20.8                     21.2   \n",
              "67121                       20.8                     21.2   \n",
              "67122                       20.8                     21.2   \n",
              "67123                       20.8                     21.2   \n",
              "\n",
              "       Globe temperature (C)  Relative humidity (%)  Season  Sex  \n",
              "0                       24.0              23.000000       3    1  \n",
              "1                       24.0              19.500000       3    1  \n",
              "2                       24.0              28.500000       3    1  \n",
              "3                       24.0              23.600000       3    1  \n",
              "4                       24.0              29.000000       3    1  \n",
              "...                      ...                    ...     ...  ...  \n",
              "67119                   19.6              50.236154       1    0  \n",
              "67120                   19.6              62.771057       0    0  \n",
              "67121                   19.6              49.785693       1    0  \n",
              "67122                   19.6              69.758938       0    0  \n",
              "67123                   19.6              63.805378       0    1  \n",
              "\n",
              "[67124 rows x 23 columns]"
            ],
            "text/html": [
              "\n",
              "  <div id=\"df-8b1fb1aa-6e7c-4573-8cf2-8d627ca4901c\" class=\"colab-df-container\">\n",
              "    <div>\n",
              "<style scoped>\n",
              "    .dataframe tbody tr th:only-of-type {\n",
              "        vertical-align: middle;\n",
              "    }\n",
              "\n",
              "    .dataframe tbody tr th {\n",
              "        vertical-align: top;\n",
              "    }\n",
              "\n",
              "    .dataframe thead th {\n",
              "        text-align: right;\n",
              "    }\n",
              "</style>\n",
              "<table border=\"1\" class=\"dataframe\">\n",
              "  <thead>\n",
              "    <tr style=\"text-align: right;\">\n",
              "      <th></th>\n",
              "      <th>Thermal sensation acceptability</th>\n",
              "      <th>Thermal preference</th>\n",
              "      <th>Thermal sensation</th>\n",
              "      <th>Humidity sensation</th>\n",
              "      <th>Blind (curtain)</th>\n",
              "      <th>Fan</th>\n",
              "      <th>Window</th>\n",
              "      <th>Door</th>\n",
              "      <th>Heater</th>\n",
              "      <th>Building type</th>\n",
              "      <th>...</th>\n",
              "      <th>Age</th>\n",
              "      <th>Air movement acceptability</th>\n",
              "      <th>Air movement preference</th>\n",
              "      <th>Air temperature (C)</th>\n",
              "      <th>Operative temperature (C)</th>\n",
              "      <th>Radiant temperature (C)</th>\n",
              "      <th>Globe temperature (C)</th>\n",
              "      <th>Relative humidity (%)</th>\n",
              "      <th>Season</th>\n",
              "      <th>Sex</th>\n",
              "    </tr>\n",
              "  </thead>\n",
              "  <tbody>\n",
              "    <tr>\n",
              "      <th>0</th>\n",
              "      <td>0.000000</td>\n",
              "      <td>2</td>\n",
              "      <td>-3.000000</td>\n",
              "      <td>2.000000</td>\n",
              "      <td>0.0</td>\n",
              "      <td>0.0</td>\n",
              "      <td>0.0</td>\n",
              "      <td>0.0</td>\n",
              "      <td>0.0</td>\n",
              "      <td>2</td>\n",
              "      <td>...</td>\n",
              "      <td>15.000000</td>\n",
              "      <td>1.000000</td>\n",
              "      <td>0</td>\n",
              "      <td>21.800000</td>\n",
              "      <td>20.8</td>\n",
              "      <td>26.6</td>\n",
              "      <td>24.0</td>\n",
              "      <td>23.000000</td>\n",
              "      <td>3</td>\n",
              "      <td>1</td>\n",
              "    </tr>\n",
              "    <tr>\n",
              "      <th>1</th>\n",
              "      <td>0.000000</td>\n",
              "      <td>0</td>\n",
              "      <td>2.000000</td>\n",
              "      <td>2.000000</td>\n",
              "      <td>0.0</td>\n",
              "      <td>0.0</td>\n",
              "      <td>0.0</td>\n",
              "      <td>0.0</td>\n",
              "      <td>0.0</td>\n",
              "      <td>2</td>\n",
              "      <td>...</td>\n",
              "      <td>15.000000</td>\n",
              "      <td>1.000000</td>\n",
              "      <td>0</td>\n",
              "      <td>24.400000</td>\n",
              "      <td>20.8</td>\n",
              "      <td>26.6</td>\n",
              "      <td>24.0</td>\n",
              "      <td>19.500000</td>\n",
              "      <td>3</td>\n",
              "      <td>1</td>\n",
              "    </tr>\n",
              "    <tr>\n",
              "      <th>2</th>\n",
              "      <td>0.000000</td>\n",
              "      <td>2</td>\n",
              "      <td>-2.000000</td>\n",
              "      <td>2.000000</td>\n",
              "      <td>0.0</td>\n",
              "      <td>0.0</td>\n",
              "      <td>0.0</td>\n",
              "      <td>0.0</td>\n",
              "      <td>0.0</td>\n",
              "      <td>2</td>\n",
              "      <td>...</td>\n",
              "      <td>15.000000</td>\n",
              "      <td>1.000000</td>\n",
              "      <td>0</td>\n",
              "      <td>22.700000</td>\n",
              "      <td>20.8</td>\n",
              "      <td>26.6</td>\n",
              "      <td>24.0</td>\n",
              "      <td>28.500000</td>\n",
              "      <td>3</td>\n",
              "      <td>1</td>\n",
              "    </tr>\n",
              "    <tr>\n",
              "      <th>3</th>\n",
              "      <td>1.000000</td>\n",
              "      <td>2</td>\n",
              "      <td>-1.000000</td>\n",
              "      <td>2.000000</td>\n",
              "      <td>0.0</td>\n",
              "      <td>0.0</td>\n",
              "      <td>0.0</td>\n",
              "      <td>0.0</td>\n",
              "      <td>0.0</td>\n",
              "      <td>2</td>\n",
              "      <td>...</td>\n",
              "      <td>15.000000</td>\n",
              "      <td>1.000000</td>\n",
              "      <td>0</td>\n",
              "      <td>23.300000</td>\n",
              "      <td>20.8</td>\n",
              "      <td>26.6</td>\n",
              "      <td>24.0</td>\n",
              "      <td>23.600000</td>\n",
              "      <td>3</td>\n",
              "      <td>1</td>\n",
              "    </tr>\n",
              "    <tr>\n",
              "      <th>4</th>\n",
              "      <td>1.000000</td>\n",
              "      <td>2</td>\n",
              "      <td>-1.000000</td>\n",
              "      <td>2.000000</td>\n",
              "      <td>0.0</td>\n",
              "      <td>0.0</td>\n",
              "      <td>0.0</td>\n",
              "      <td>0.0</td>\n",
              "      <td>0.0</td>\n",
              "      <td>2</td>\n",
              "      <td>...</td>\n",
              "      <td>15.000000</td>\n",
              "      <td>1.000000</td>\n",
              "      <td>0</td>\n",
              "      <td>23.800000</td>\n",
              "      <td>20.8</td>\n",
              "      <td>26.6</td>\n",
              "      <td>24.0</td>\n",
              "      <td>29.000000</td>\n",
              "      <td>3</td>\n",
              "      <td>1</td>\n",
              "    </tr>\n",
              "    <tr>\n",
              "      <th>...</th>\n",
              "      <td>...</td>\n",
              "      <td>...</td>\n",
              "      <td>...</td>\n",
              "      <td>...</td>\n",
              "      <td>...</td>\n",
              "      <td>...</td>\n",
              "      <td>...</td>\n",
              "      <td>...</td>\n",
              "      <td>...</td>\n",
              "      <td>...</td>\n",
              "      <td>...</td>\n",
              "      <td>...</td>\n",
              "      <td>...</td>\n",
              "      <td>...</td>\n",
              "      <td>...</td>\n",
              "      <td>...</td>\n",
              "      <td>...</td>\n",
              "      <td>...</td>\n",
              "      <td>...</td>\n",
              "      <td>...</td>\n",
              "      <td>...</td>\n",
              "    </tr>\n",
              "    <tr>\n",
              "      <th>67119</th>\n",
              "      <td>1.000000</td>\n",
              "      <td>1</td>\n",
              "      <td>-1.000000</td>\n",
              "      <td>0.000000</td>\n",
              "      <td>0.0</td>\n",
              "      <td>0.0</td>\n",
              "      <td>0.0</td>\n",
              "      <td>0.0</td>\n",
              "      <td>0.0</td>\n",
              "      <td>1</td>\n",
              "      <td>...</td>\n",
              "      <td>60.000000</td>\n",
              "      <td>1.000000</td>\n",
              "      <td>2</td>\n",
              "      <td>22.128785</td>\n",
              "      <td>20.8</td>\n",
              "      <td>21.2</td>\n",
              "      <td>19.6</td>\n",
              "      <td>50.236154</td>\n",
              "      <td>1</td>\n",
              "      <td>0</td>\n",
              "    </tr>\n",
              "    <tr>\n",
              "      <th>67120</th>\n",
              "      <td>0.168662</td>\n",
              "      <td>0</td>\n",
              "      <td>1.831338</td>\n",
              "      <td>0.168662</td>\n",
              "      <td>0.0</td>\n",
              "      <td>0.0</td>\n",
              "      <td>0.0</td>\n",
              "      <td>0.0</td>\n",
              "      <td>0.0</td>\n",
              "      <td>1</td>\n",
              "      <td>...</td>\n",
              "      <td>60.000000</td>\n",
              "      <td>0.168662</td>\n",
              "      <td>1</td>\n",
              "      <td>20.148204</td>\n",
              "      <td>20.8</td>\n",
              "      <td>21.2</td>\n",
              "      <td>19.6</td>\n",
              "      <td>62.771057</td>\n",
              "      <td>0</td>\n",
              "      <td>0</td>\n",
              "    </tr>\n",
              "    <tr>\n",
              "      <th>67121</th>\n",
              "      <td>1.000000</td>\n",
              "      <td>1</td>\n",
              "      <td>0.000000</td>\n",
              "      <td>1.503765</td>\n",
              "      <td>0.0</td>\n",
              "      <td>0.0</td>\n",
              "      <td>0.0</td>\n",
              "      <td>0.0</td>\n",
              "      <td>0.0</td>\n",
              "      <td>1</td>\n",
              "      <td>...</td>\n",
              "      <td>40.000000</td>\n",
              "      <td>1.000000</td>\n",
              "      <td>1</td>\n",
              "      <td>22.563931</td>\n",
              "      <td>20.8</td>\n",
              "      <td>21.2</td>\n",
              "      <td>19.6</td>\n",
              "      <td>49.785693</td>\n",
              "      <td>1</td>\n",
              "      <td>0</td>\n",
              "    </tr>\n",
              "    <tr>\n",
              "      <th>67122</th>\n",
              "      <td>1.000000</td>\n",
              "      <td>2</td>\n",
              "      <td>-1.000000</td>\n",
              "      <td>0.000000</td>\n",
              "      <td>0.0</td>\n",
              "      <td>0.0</td>\n",
              "      <td>0.0</td>\n",
              "      <td>0.0</td>\n",
              "      <td>0.0</td>\n",
              "      <td>1</td>\n",
              "      <td>...</td>\n",
              "      <td>40.000000</td>\n",
              "      <td>1.000000</td>\n",
              "      <td>2</td>\n",
              "      <td>18.937616</td>\n",
              "      <td>20.8</td>\n",
              "      <td>21.2</td>\n",
              "      <td>19.6</td>\n",
              "      <td>69.758938</td>\n",
              "      <td>0</td>\n",
              "      <td>0</td>\n",
              "    </tr>\n",
              "    <tr>\n",
              "      <th>67123</th>\n",
              "      <td>1.000000</td>\n",
              "      <td>0</td>\n",
              "      <td>0.268265</td>\n",
              "      <td>1.000000</td>\n",
              "      <td>0.0</td>\n",
              "      <td>0.0</td>\n",
              "      <td>0.0</td>\n",
              "      <td>0.0</td>\n",
              "      <td>0.0</td>\n",
              "      <td>1</td>\n",
              "      <td>...</td>\n",
              "      <td>7.616764</td>\n",
              "      <td>0.616764</td>\n",
              "      <td>1</td>\n",
              "      <td>19.184447</td>\n",
              "      <td>20.8</td>\n",
              "      <td>21.2</td>\n",
              "      <td>19.6</td>\n",
              "      <td>63.805378</td>\n",
              "      <td>0</td>\n",
              "      <td>1</td>\n",
              "    </tr>\n",
              "  </tbody>\n",
              "</table>\n",
              "<p>67124 rows × 23 columns</p>\n",
              "</div>\n",
              "    <div class=\"colab-df-buttons\">\n",
              "\n",
              "  <div class=\"colab-df-container\">\n",
              "    <button class=\"colab-df-convert\" onclick=\"convertToInteractive('df-8b1fb1aa-6e7c-4573-8cf2-8d627ca4901c')\"\n",
              "            title=\"Convert this dataframe to an interactive table.\"\n",
              "            style=\"display:none;\">\n",
              "\n",
              "  <svg xmlns=\"http://www.w3.org/2000/svg\" height=\"24px\" viewBox=\"0 -960 960 960\">\n",
              "    <path d=\"M120-120v-720h720v720H120Zm60-500h600v-160H180v160Zm220 220h160v-160H400v160Zm0 220h160v-160H400v160ZM180-400h160v-160H180v160Zm440 0h160v-160H620v160ZM180-180h160v-160H180v160Zm440 0h160v-160H620v160Z\"/>\n",
              "  </svg>\n",
              "    </button>\n",
              "\n",
              "  <style>\n",
              "    .colab-df-container {\n",
              "      display:flex;\n",
              "      gap: 12px;\n",
              "    }\n",
              "\n",
              "    .colab-df-convert {\n",
              "      background-color: #E8F0FE;\n",
              "      border: none;\n",
              "      border-radius: 50%;\n",
              "      cursor: pointer;\n",
              "      display: none;\n",
              "      fill: #1967D2;\n",
              "      height: 32px;\n",
              "      padding: 0 0 0 0;\n",
              "      width: 32px;\n",
              "    }\n",
              "\n",
              "    .colab-df-convert:hover {\n",
              "      background-color: #E2EBFA;\n",
              "      box-shadow: 0px 1px 2px rgba(60, 64, 67, 0.3), 0px 1px 3px 1px rgba(60, 64, 67, 0.15);\n",
              "      fill: #174EA6;\n",
              "    }\n",
              "\n",
              "    .colab-df-buttons div {\n",
              "      margin-bottom: 4px;\n",
              "    }\n",
              "\n",
              "    [theme=dark] .colab-df-convert {\n",
              "      background-color: #3B4455;\n",
              "      fill: #D2E3FC;\n",
              "    }\n",
              "\n",
              "    [theme=dark] .colab-df-convert:hover {\n",
              "      background-color: #434B5C;\n",
              "      box-shadow: 0px 1px 3px 1px rgba(0, 0, 0, 0.15);\n",
              "      filter: drop-shadow(0px 1px 2px rgba(0, 0, 0, 0.3));\n",
              "      fill: #FFFFFF;\n",
              "    }\n",
              "  </style>\n",
              "\n",
              "    <script>\n",
              "      const buttonEl =\n",
              "        document.querySelector('#df-8b1fb1aa-6e7c-4573-8cf2-8d627ca4901c button.colab-df-convert');\n",
              "      buttonEl.style.display =\n",
              "        google.colab.kernel.accessAllowed ? 'block' : 'none';\n",
              "\n",
              "      async function convertToInteractive(key) {\n",
              "        const element = document.querySelector('#df-8b1fb1aa-6e7c-4573-8cf2-8d627ca4901c');\n",
              "        const dataTable =\n",
              "          await google.colab.kernel.invokeFunction('convertToInteractive',\n",
              "                                                    [key], {});\n",
              "        if (!dataTable) return;\n",
              "\n",
              "        const docLinkHtml = 'Like what you see? Visit the ' +\n",
              "          '<a target=\"_blank\" href=https://colab.research.google.com/notebooks/data_table.ipynb>data table notebook</a>'\n",
              "          + ' to learn more about interactive tables.';\n",
              "        element.innerHTML = '';\n",
              "        dataTable['output_type'] = 'display_data';\n",
              "        await google.colab.output.renderOutput(dataTable, element);\n",
              "        const docLink = document.createElement('div');\n",
              "        docLink.innerHTML = docLinkHtml;\n",
              "        element.appendChild(docLink);\n",
              "      }\n",
              "    </script>\n",
              "  </div>\n",
              "\n",
              "\n",
              "<div id=\"df-b25b9e11-da72-4704-92d0-19c1fe4fda53\">\n",
              "  <button class=\"colab-df-quickchart\" onclick=\"quickchart('df-b25b9e11-da72-4704-92d0-19c1fe4fda53')\"\n",
              "            title=\"Suggest charts\"\n",
              "            style=\"display:none;\">\n",
              "\n",
              "<svg xmlns=\"http://www.w3.org/2000/svg\" height=\"24px\"viewBox=\"0 0 24 24\"\n",
              "     width=\"24px\">\n",
              "    <g>\n",
              "        <path d=\"M19 3H5c-1.1 0-2 .9-2 2v14c0 1.1.9 2 2 2h14c1.1 0 2-.9 2-2V5c0-1.1-.9-2-2-2zM9 17H7v-7h2v7zm4 0h-2V7h2v10zm4 0h-2v-4h2v4z\"/>\n",
              "    </g>\n",
              "</svg>\n",
              "  </button>\n",
              "\n",
              "<style>\n",
              "  .colab-df-quickchart {\n",
              "      --bg-color: #E8F0FE;\n",
              "      --fill-color: #1967D2;\n",
              "      --hover-bg-color: #E2EBFA;\n",
              "      --hover-fill-color: #174EA6;\n",
              "      --disabled-fill-color: #AAA;\n",
              "      --disabled-bg-color: #DDD;\n",
              "  }\n",
              "\n",
              "  [theme=dark] .colab-df-quickchart {\n",
              "      --bg-color: #3B4455;\n",
              "      --fill-color: #D2E3FC;\n",
              "      --hover-bg-color: #434B5C;\n",
              "      --hover-fill-color: #FFFFFF;\n",
              "      --disabled-bg-color: #3B4455;\n",
              "      --disabled-fill-color: #666;\n",
              "  }\n",
              "\n",
              "  .colab-df-quickchart {\n",
              "    background-color: var(--bg-color);\n",
              "    border: none;\n",
              "    border-radius: 50%;\n",
              "    cursor: pointer;\n",
              "    display: none;\n",
              "    fill: var(--fill-color);\n",
              "    height: 32px;\n",
              "    padding: 0;\n",
              "    width: 32px;\n",
              "  }\n",
              "\n",
              "  .colab-df-quickchart:hover {\n",
              "    background-color: var(--hover-bg-color);\n",
              "    box-shadow: 0 1px 2px rgba(60, 64, 67, 0.3), 0 1px 3px 1px rgba(60, 64, 67, 0.15);\n",
              "    fill: var(--button-hover-fill-color);\n",
              "  }\n",
              "\n",
              "  .colab-df-quickchart-complete:disabled,\n",
              "  .colab-df-quickchart-complete:disabled:hover {\n",
              "    background-color: var(--disabled-bg-color);\n",
              "    fill: var(--disabled-fill-color);\n",
              "    box-shadow: none;\n",
              "  }\n",
              "\n",
              "  .colab-df-spinner {\n",
              "    border: 2px solid var(--fill-color);\n",
              "    border-color: transparent;\n",
              "    border-bottom-color: var(--fill-color);\n",
              "    animation:\n",
              "      spin 1s steps(1) infinite;\n",
              "  }\n",
              "\n",
              "  @keyframes spin {\n",
              "    0% {\n",
              "      border-color: transparent;\n",
              "      border-bottom-color: var(--fill-color);\n",
              "      border-left-color: var(--fill-color);\n",
              "    }\n",
              "    20% {\n",
              "      border-color: transparent;\n",
              "      border-left-color: var(--fill-color);\n",
              "      border-top-color: var(--fill-color);\n",
              "    }\n",
              "    30% {\n",
              "      border-color: transparent;\n",
              "      border-left-color: var(--fill-color);\n",
              "      border-top-color: var(--fill-color);\n",
              "      border-right-color: var(--fill-color);\n",
              "    }\n",
              "    40% {\n",
              "      border-color: transparent;\n",
              "      border-right-color: var(--fill-color);\n",
              "      border-top-color: var(--fill-color);\n",
              "    }\n",
              "    60% {\n",
              "      border-color: transparent;\n",
              "      border-right-color: var(--fill-color);\n",
              "    }\n",
              "    80% {\n",
              "      border-color: transparent;\n",
              "      border-right-color: var(--fill-color);\n",
              "      border-bottom-color: var(--fill-color);\n",
              "    }\n",
              "    90% {\n",
              "      border-color: transparent;\n",
              "      border-bottom-color: var(--fill-color);\n",
              "    }\n",
              "  }\n",
              "</style>\n",
              "\n",
              "  <script>\n",
              "    async function quickchart(key) {\n",
              "      const quickchartButtonEl =\n",
              "        document.querySelector('#' + key + ' button');\n",
              "      quickchartButtonEl.disabled = true;  // To prevent multiple clicks.\n",
              "      quickchartButtonEl.classList.add('colab-df-spinner');\n",
              "      try {\n",
              "        const charts = await google.colab.kernel.invokeFunction(\n",
              "            'suggestCharts', [key], {});\n",
              "      } catch (error) {\n",
              "        console.error('Error during call to suggestCharts:', error);\n",
              "      }\n",
              "      quickchartButtonEl.classList.remove('colab-df-spinner');\n",
              "      quickchartButtonEl.classList.add('colab-df-quickchart-complete');\n",
              "    }\n",
              "    (() => {\n",
              "      let quickchartButtonEl =\n",
              "        document.querySelector('#df-b25b9e11-da72-4704-92d0-19c1fe4fda53 button');\n",
              "      quickchartButtonEl.style.display =\n",
              "        google.colab.kernel.accessAllowed ? 'block' : 'none';\n",
              "    })();\n",
              "  </script>\n",
              "</div>\n",
              "\n",
              "  <div id=\"id_cb3043fd-94d1-4b56-943c-62fd2082a718\">\n",
              "    <style>\n",
              "      .colab-df-generate {\n",
              "        background-color: #E8F0FE;\n",
              "        border: none;\n",
              "        border-radius: 50%;\n",
              "        cursor: pointer;\n",
              "        display: none;\n",
              "        fill: #1967D2;\n",
              "        height: 32px;\n",
              "        padding: 0 0 0 0;\n",
              "        width: 32px;\n",
              "      }\n",
              "\n",
              "      .colab-df-generate:hover {\n",
              "        background-color: #E2EBFA;\n",
              "        box-shadow: 0px 1px 2px rgba(60, 64, 67, 0.3), 0px 1px 3px 1px rgba(60, 64, 67, 0.15);\n",
              "        fill: #174EA6;\n",
              "      }\n",
              "\n",
              "      [theme=dark] .colab-df-generate {\n",
              "        background-color: #3B4455;\n",
              "        fill: #D2E3FC;\n",
              "      }\n",
              "\n",
              "      [theme=dark] .colab-df-generate:hover {\n",
              "        background-color: #434B5C;\n",
              "        box-shadow: 0px 1px 3px 1px rgba(0, 0, 0, 0.15);\n",
              "        filter: drop-shadow(0px 1px 2px rgba(0, 0, 0, 0.3));\n",
              "        fill: #FFFFFF;\n",
              "      }\n",
              "    </style>\n",
              "    <button class=\"colab-df-generate\" onclick=\"generateWithVariable('X_train_smote')\"\n",
              "            title=\"Generate code using this dataframe.\"\n",
              "            style=\"display:none;\">\n",
              "\n",
              "  <svg xmlns=\"http://www.w3.org/2000/svg\" height=\"24px\"viewBox=\"0 0 24 24\"\n",
              "       width=\"24px\">\n",
              "    <path d=\"M7,19H8.4L18.45,9,17,7.55,7,17.6ZM5,21V16.75L18.45,3.32a2,2,0,0,1,2.83,0l1.4,1.43a1.91,1.91,0,0,1,.58,1.4,1.91,1.91,0,0,1-.58,1.4L9.25,21ZM18.45,9,17,7.55Zm-12,3A5.31,5.31,0,0,0,4.9,8.1,5.31,5.31,0,0,0,1,6.5,5.31,5.31,0,0,0,4.9,4.9,5.31,5.31,0,0,0,6.5,1,5.31,5.31,0,0,0,8.1,4.9,5.31,5.31,0,0,0,12,6.5,5.46,5.46,0,0,0,6.5,12Z\"/>\n",
              "  </svg>\n",
              "    </button>\n",
              "    <script>\n",
              "      (() => {\n",
              "      const buttonEl =\n",
              "        document.querySelector('#id_cb3043fd-94d1-4b56-943c-62fd2082a718 button.colab-df-generate');\n",
              "      buttonEl.style.display =\n",
              "        google.colab.kernel.accessAllowed ? 'block' : 'none';\n",
              "\n",
              "      buttonEl.onclick = () => {\n",
              "        google.colab.notebook.generateWithVariable('X_train_smote');\n",
              "      }\n",
              "      })();\n",
              "    </script>\n",
              "  </div>\n",
              "\n",
              "    </div>\n",
              "  </div>\n"
            ]
          },
          "metadata": {},
          "execution_count": 55
        }
      ]
    },
    {
      "cell_type": "code",
      "source": [
        "from sklearn.model_selection import train_test_split\n",
        "from sklearn.ensemble import RandomForestClassifier, AdaBoostClassifier, BaggingClassifier, ExtraTreesClassifier, GradientBoostingClassifier, VotingClassifier\n",
        "from sklearn.linear_model import LogisticRegression\n",
        "from sklearn.svm import SVC\n",
        "from sklearn.metrics import accuracy_score\n",
        "from sklearn.preprocessing import StandardScaler\n",
        "from xgboost import XGBClassifier\n",
        "\n",
        "# Assuming X, y are defined and contain your feature and target data\n",
        "\n",
        "# Split the data into training and test sets\n",
        "X_train_smote, y_train_smote = sm.fit_resample(X_train, y_train)\n",
        "\n",
        "# Scale the data\n",
        "scaler = StandardScaler()\n",
        "X_train = scaler.fit_transform(X_train)\n",
        "X_test = scaler.transform(X_test)\n",
        "\n",
        "# Create the base models\n",
        "rf = ('rf', RandomForestClassifier())\n",
        "gb = ('gb', GradientBoostingClassifier())\n",
        "lr = ('lr', LogisticRegression())\n",
        "svc = ('svc', SVC())\n",
        "\n",
        "\n",
        "# Create the hybrid ensemble model\n",
        "hybrid = VotingClassifier(estimators=[rf,gb, lr, svc], voting='hard')\n",
        "\n",
        "# Fit the hybrid ensemble model to the training data\n",
        "hybrid.fit(X_train, y_train)\n",
        "\n",
        "# Make predictions on the test data\n",
        "y_pred = hybrid.predict(X_test)\n",
        "\n",
        "# Evaluate the hybrid ensemble model\n",
        "accuracy = accuracy_score(y_test, y_pred)\n",
        "print(\"Accuracy:\", accuracy)\n",
        "\n",
        "# Compare the hybrid ensemble model to the base models\n",
        "print(\"Base models:\")\n",
        "for (name, model) in [rf,gb, lr, svc]:\n",
        "    model.fit(X_train, y_train)\n",
        "    y_pred = model.predict(X_test)\n",
        "    accuracy = accuracy_score(y_test, y_pred)\n",
        "    print(name, \":\", accuracy)\n",
        "\n",
        "# The hybrid ensemble model outperforms all of the base models in terms of accuracy.\n"
      ],
      "metadata": {
        "colab": {
          "base_uri": "https://localhost:8080/"
        },
        "id": "DkHv3krgLkYC",
        "outputId": "a7f03f2f-2f60-45a7-e258-73b2caf3f61f"
      },
      "id": "DkHv3krgLkYC",
      "execution_count": null,
      "outputs": [
        {
          "output_type": "stream",
          "name": "stderr",
          "text": [
            "/usr/local/lib/python3.10/dist-packages/sklearn/linear_model/_logistic.py:458: ConvergenceWarning: lbfgs failed to converge (status=1):\n",
            "STOP: TOTAL NO. of ITERATIONS REACHED LIMIT.\n",
            "\n",
            "Increase the number of iterations (max_iter) or scale the data as shown in:\n",
            "    https://scikit-learn.org/stable/modules/preprocessing.html\n",
            "Please also refer to the documentation for alternative solver options:\n",
            "    https://scikit-learn.org/stable/modules/linear_model.html#logistic-regression\n",
            "  n_iter_i = _check_optimize_result(\n"
          ]
        },
        {
          "output_type": "stream",
          "name": "stdout",
          "text": [
            "Accuracy: 0.9907757805108799\n",
            "Base models:\n",
            "rf : 0.9926679280983917\n",
            "gb : 0.9895931882686849\n"
          ]
        },
        {
          "output_type": "stream",
          "name": "stderr",
          "text": [
            "/usr/local/lib/python3.10/dist-packages/sklearn/linear_model/_logistic.py:458: ConvergenceWarning: lbfgs failed to converge (status=1):\n",
            "STOP: TOTAL NO. of ITERATIONS REACHED LIMIT.\n",
            "\n",
            "Increase the number of iterations (max_iter) or scale the data as shown in:\n",
            "    https://scikit-learn.org/stable/modules/preprocessing.html\n",
            "Please also refer to the documentation for alternative solver options:\n",
            "    https://scikit-learn.org/stable/modules/linear_model.html#logistic-regression\n",
            "  n_iter_i = _check_optimize_result(\n"
          ]
        },
        {
          "output_type": "stream",
          "name": "stdout",
          "text": [
            "lr : 0.9917218543046358\n",
            "svc : 0.9914853358561968\n"
          ]
        }
      ]
    },
    {
      "cell_type": "markdown",
      "source": [
        "2nd method\n"
      ],
      "metadata": {
        "id": "6fFt34pVO8oD"
      },
      "id": "6fFt34pVO8oD"
    },
    {
      "cell_type": "code",
      "execution_count": null,
      "id": "3ae4c53a",
      "metadata": {
        "execution": {
          "iopub.execute_input": "2023-10-15T17:05:08.405684Z",
          "iopub.status.busy": "2023-10-15T17:05:08.404355Z",
          "iopub.status.idle": "2023-10-15T17:05:26.727319Z",
          "shell.execute_reply": "2023-10-15T17:05:26.725866Z"
        },
        "papermill": {
          "duration": 18.339235,
          "end_time": "2023-10-15T17:05:26.729920",
          "exception": false,
          "start_time": "2023-10-15T17:05:08.390685",
          "status": "completed"
        },
        "tags": [],
        "id": "3ae4c53a",
        "outputId": "bd0a957b-4037-45e5-dac1-b9ec82382640",
        "colab": {
          "base_uri": "https://localhost:8080/",
          "height": 1000
        }
      },
      "outputs": [
        {
          "output_type": "stream",
          "name": "stdout",
          "text": [
            "Collecting featurewiz\n",
            "  Downloading featurewiz-0.5.6-py3-none-any.whl (156 kB)\n",
            "\u001b[2K     \u001b[90m━━━━━━━━━━━━━━━━━━━━━━━━━━━━━━━━━━━━━━━━\u001b[0m \u001b[32m156.3/156.3 kB\u001b[0m \u001b[31m1.6 MB/s\u001b[0m eta \u001b[36m0:00:00\u001b[0m\n",
            "\u001b[?25hRequirement already satisfied: Pillow>=9.0.0 in /usr/local/lib/python3.10/dist-packages (from featurewiz) (9.4.0)\n",
            "Collecting category-encoders>=2.6.2 (from featurewiz)\n",
            "  Downloading category_encoders-2.6.3-py2.py3-none-any.whl (81 kB)\n",
            "\u001b[2K     \u001b[90m━━━━━━━━━━━━━━━━━━━━━━━━━━━━━━━━━━━━━━━━\u001b[0m \u001b[32m81.9/81.9 kB\u001b[0m \u001b[31m7.9 MB/s\u001b[0m eta \u001b[36m0:00:00\u001b[0m\n",
            "\u001b[?25hRequirement already satisfied: dask>=2021.11.0 in /usr/local/lib/python3.10/dist-packages (from featurewiz) (2023.8.1)\n",
            "Requirement already satisfied: distributed>=2021.11.0 in /usr/local/lib/python3.10/dist-packages (from featurewiz) (2023.8.1)\n",
            "Collecting feather-format>=0.4.1 (from featurewiz)\n",
            "  Downloading feather-format-0.4.1.tar.gz (3.2 kB)\n",
            "  Preparing metadata (setup.py) ... \u001b[?25l\u001b[?25hdone\n",
            "Requirement already satisfied: fsspec>=0.3.3 in /usr/local/lib/python3.10/dist-packages (from featurewiz) (2023.6.0)\n",
            "Requirement already satisfied: ipython in /usr/local/lib/python3.10/dist-packages (from featurewiz) (7.34.0)\n",
            "Collecting jupyter (from featurewiz)\n",
            "  Downloading jupyter-1.0.0-py2.py3-none-any.whl (2.7 kB)\n",
            "Collecting lazytransform>=1.15 (from featurewiz)\n",
            "  Downloading lazytransform-1.15-py3-none-any.whl (57 kB)\n",
            "\u001b[2K     \u001b[90m━━━━━━━━━━━━━━━━━━━━━━━━━━━━━━━━━━━━━━━━\u001b[0m \u001b[32m58.0/58.0 kB\u001b[0m \u001b[31m6.7 MB/s\u001b[0m eta \u001b[36m0:00:00\u001b[0m\n",
            "\u001b[?25hRequirement already satisfied: lightgbm>=3.2.1 in /usr/local/lib/python3.10/dist-packages (from featurewiz) (4.1.0)\n",
            "Requirement already satisfied: matplotlib in /usr/local/lib/python3.10/dist-packages (from featurewiz) (3.7.1)\n",
            "Requirement already satisfied: networkx>=2.6.2 in /usr/local/lib/python3.10/dist-packages (from featurewiz) (3.2.1)\n",
            "Requirement already satisfied: numexpr>=2.7.3 in /usr/local/lib/python3.10/dist-packages (from featurewiz) (2.9.0)\n",
            "Requirement already satisfied: pandas<2.0,>=1.3.4 in /usr/local/lib/python3.10/dist-packages (from featurewiz) (1.5.3)\n",
            "Requirement already satisfied: pyarrow>=7.0.0 in /usr/local/lib/python3.10/dist-packages (from featurewiz) (10.0.1)\n",
            "Requirement already satisfied: scikit-learn<=1.2.2,>=0.24 in /usr/local/lib/python3.10/dist-packages (from featurewiz) (1.2.2)\n",
            "Collecting scipy<1.11.0 (from featurewiz)\n",
            "  Downloading scipy-1.10.1-cp310-cp310-manylinux_2_17_x86_64.manylinux2014_x86_64.whl (34.4 MB)\n",
            "\u001b[2K     \u001b[90m━━━━━━━━━━━━━━━━━━━━━━━━━━━━━━━━━━━━━━━━\u001b[0m \u001b[32m34.4/34.4 MB\u001b[0m \u001b[31m13.3 MB/s\u001b[0m eta \u001b[36m0:00:00\u001b[0m\n",
            "\u001b[?25hRequirement already satisfied: seaborn in /usr/local/lib/python3.10/dist-packages (from featurewiz) (0.13.1)\n",
            "Requirement already satisfied: tqdm>=4.61.1 in /usr/local/lib/python3.10/dist-packages (from featurewiz) (4.66.1)\n",
            "Collecting xgboost<=1.6.2,>=1.5 (from featurewiz)\n",
            "  Downloading xgboost-1.6.2-py3-none-manylinux2014_x86_64.whl (255.9 MB)\n",
            "\u001b[2K     \u001b[90m━━━━━━━━━━━━━━━━━━━━━━━━━━━━━━━━━━━━━━━━\u001b[0m \u001b[32m255.9/255.9 MB\u001b[0m \u001b[31m3.1 MB/s\u001b[0m eta \u001b[36m0:00:00\u001b[0m\n",
            "\u001b[?25hRequirement already satisfied: xlrd>=2.0.0 in /usr/local/lib/python3.10/dist-packages (from featurewiz) (2.0.1)\n",
            "Requirement already satisfied: numpy>=1.14.0 in /usr/local/lib/python3.10/dist-packages (from category-encoders>=2.6.2->featurewiz) (1.23.5)\n",
            "Requirement already satisfied: statsmodels>=0.9.0 in /usr/local/lib/python3.10/dist-packages (from category-encoders>=2.6.2->featurewiz) (0.14.1)\n",
            "Requirement already satisfied: patsy>=0.5.1 in /usr/local/lib/python3.10/dist-packages (from category-encoders>=2.6.2->featurewiz) (0.5.6)\n",
            "Requirement already satisfied: click>=8.0 in /usr/local/lib/python3.10/dist-packages (from dask>=2021.11.0->featurewiz) (8.1.7)\n",
            "Requirement already satisfied: cloudpickle>=1.5.0 in /usr/local/lib/python3.10/dist-packages (from dask>=2021.11.0->featurewiz) (2.2.1)\n",
            "Requirement already satisfied: packaging>=20.0 in /usr/local/lib/python3.10/dist-packages (from dask>=2021.11.0->featurewiz) (23.2)\n",
            "Requirement already satisfied: partd>=1.2.0 in /usr/local/lib/python3.10/dist-packages (from dask>=2021.11.0->featurewiz) (1.4.1)\n",
            "Requirement already satisfied: pyyaml>=5.3.1 in /usr/local/lib/python3.10/dist-packages (from dask>=2021.11.0->featurewiz) (6.0.1)\n",
            "Requirement already satisfied: toolz>=0.10.0 in /usr/local/lib/python3.10/dist-packages (from dask>=2021.11.0->featurewiz) (0.12.1)\n",
            "Requirement already satisfied: importlib-metadata>=4.13.0 in /usr/local/lib/python3.10/dist-packages (from dask>=2021.11.0->featurewiz) (7.0.1)\n",
            "Requirement already satisfied: jinja2>=2.10.3 in /usr/local/lib/python3.10/dist-packages (from distributed>=2021.11.0->featurewiz) (3.1.3)\n",
            "Requirement already satisfied: locket>=1.0.0 in /usr/local/lib/python3.10/dist-packages (from distributed>=2021.11.0->featurewiz) (1.0.0)\n",
            "Requirement already satisfied: msgpack>=1.0.0 in /usr/local/lib/python3.10/dist-packages (from distributed>=2021.11.0->featurewiz) (1.0.7)\n",
            "Requirement already satisfied: psutil>=5.7.2 in /usr/local/lib/python3.10/dist-packages (from distributed>=2021.11.0->featurewiz) (5.9.5)\n",
            "Requirement already satisfied: sortedcontainers>=2.0.5 in /usr/local/lib/python3.10/dist-packages (from distributed>=2021.11.0->featurewiz) (2.4.0)\n",
            "Requirement already satisfied: tblib>=1.6.0 in /usr/local/lib/python3.10/dist-packages (from distributed>=2021.11.0->featurewiz) (3.0.0)\n",
            "Requirement already satisfied: tornado>=6.0.4 in /usr/local/lib/python3.10/dist-packages (from distributed>=2021.11.0->featurewiz) (6.3.2)\n",
            "Requirement already satisfied: urllib3>=1.24.3 in /usr/local/lib/python3.10/dist-packages (from distributed>=2021.11.0->featurewiz) (2.0.7)\n",
            "Requirement already satisfied: zict>=2.2.0 in /usr/local/lib/python3.10/dist-packages (from distributed>=2021.11.0->featurewiz) (3.0.0)\n",
            "Requirement already satisfied: python-dateutil>=2.8.1 in /usr/local/lib/python3.10/dist-packages (from lazytransform>=1.15->featurewiz) (2.8.2)\n",
            "Requirement already satisfied: contourpy>=1.0.1 in /usr/local/lib/python3.10/dist-packages (from matplotlib->featurewiz) (1.2.0)\n",
            "Requirement already satisfied: cycler>=0.10 in /usr/local/lib/python3.10/dist-packages (from matplotlib->featurewiz) (0.12.1)\n",
            "Requirement already satisfied: fonttools>=4.22.0 in /usr/local/lib/python3.10/dist-packages (from matplotlib->featurewiz) (4.47.2)\n",
            "Requirement already satisfied: kiwisolver>=1.0.1 in /usr/local/lib/python3.10/dist-packages (from matplotlib->featurewiz) (1.4.5)\n",
            "Requirement already satisfied: pyparsing>=2.3.1 in /usr/local/lib/python3.10/dist-packages (from matplotlib->featurewiz) (3.1.1)\n",
            "Requirement already satisfied: pytz>=2020.1 in /usr/local/lib/python3.10/dist-packages (from pandas<2.0,>=1.3.4->featurewiz) (2023.4)\n",
            "Requirement already satisfied: joblib>=1.1.1 in /usr/local/lib/python3.10/dist-packages (from scikit-learn<=1.2.2,>=0.24->featurewiz) (1.3.2)\n",
            "Requirement already satisfied: threadpoolctl>=2.0.0 in /usr/local/lib/python3.10/dist-packages (from scikit-learn<=1.2.2,>=0.24->featurewiz) (3.2.0)\n",
            "Requirement already satisfied: setuptools>=18.5 in /usr/local/lib/python3.10/dist-packages (from ipython->featurewiz) (67.7.2)\n",
            "Collecting jedi>=0.16 (from ipython->featurewiz)\n",
            "  Downloading jedi-0.19.1-py2.py3-none-any.whl (1.6 MB)\n",
            "\u001b[2K     \u001b[90m━━━━━━━━━━━━━━━━━━━━━━━━━━━━━━━━━━━━━━━━\u001b[0m \u001b[32m1.6/1.6 MB\u001b[0m \u001b[31m8.4 MB/s\u001b[0m eta \u001b[36m0:00:00\u001b[0m\n",
            "\u001b[?25hRequirement already satisfied: decorator in /usr/local/lib/python3.10/dist-packages (from ipython->featurewiz) (4.4.2)\n",
            "Requirement already satisfied: pickleshare in /usr/local/lib/python3.10/dist-packages (from ipython->featurewiz) (0.7.5)\n",
            "Requirement already satisfied: traitlets>=4.2 in /usr/local/lib/python3.10/dist-packages (from ipython->featurewiz) (5.7.1)\n",
            "Requirement already satisfied: prompt-toolkit!=3.0.0,!=3.0.1,<3.1.0,>=2.0.0 in /usr/local/lib/python3.10/dist-packages (from ipython->featurewiz) (3.0.43)\n",
            "Requirement already satisfied: pygments in /usr/local/lib/python3.10/dist-packages (from ipython->featurewiz) (2.16.1)\n",
            "Requirement already satisfied: backcall in /usr/local/lib/python3.10/dist-packages (from ipython->featurewiz) (0.2.0)\n",
            "Requirement already satisfied: matplotlib-inline in /usr/local/lib/python3.10/dist-packages (from ipython->featurewiz) (0.1.6)\n",
            "Requirement already satisfied: pexpect>4.3 in /usr/local/lib/python3.10/dist-packages (from ipython->featurewiz) (4.9.0)\n",
            "Requirement already satisfied: notebook in /usr/local/lib/python3.10/dist-packages (from jupyter->featurewiz) (6.5.5)\n",
            "Collecting qtconsole (from jupyter->featurewiz)\n",
            "  Downloading qtconsole-5.5.1-py3-none-any.whl (123 kB)\n",
            "\u001b[2K     \u001b[90m━━━━━━━━━━━━━━━━━━━━━━━━━━━━━━━━━━━━━━━━\u001b[0m \u001b[32m123.4/123.4 kB\u001b[0m \u001b[31m8.7 MB/s\u001b[0m eta \u001b[36m0:00:00\u001b[0m\n",
            "\u001b[?25hRequirement already satisfied: jupyter-console in /usr/local/lib/python3.10/dist-packages (from jupyter->featurewiz) (6.1.0)\n",
            "Requirement already satisfied: nbconvert in /usr/local/lib/python3.10/dist-packages (from jupyter->featurewiz) (6.5.4)\n",
            "Requirement already satisfied: ipykernel in /usr/local/lib/python3.10/dist-packages (from jupyter->featurewiz) (5.5.6)\n",
            "Requirement already satisfied: ipywidgets in /usr/local/lib/python3.10/dist-packages (from jupyter->featurewiz) (7.7.1)\n",
            "Requirement already satisfied: zipp>=0.5 in /usr/local/lib/python3.10/dist-packages (from importlib-metadata>=4.13.0->dask>=2021.11.0->featurewiz) (3.17.0)\n",
            "Requirement already satisfied: parso<0.9.0,>=0.8.3 in /usr/local/lib/python3.10/dist-packages (from jedi>=0.16->ipython->featurewiz) (0.8.3)\n",
            "Requirement already satisfied: MarkupSafe>=2.0 in /usr/local/lib/python3.10/dist-packages (from jinja2>=2.10.3->distributed>=2021.11.0->featurewiz) (2.1.5)\n",
            "Requirement already satisfied: six in /usr/local/lib/python3.10/dist-packages (from patsy>=0.5.1->category-encoders>=2.6.2->featurewiz) (1.16.0)\n",
            "Requirement already satisfied: ptyprocess>=0.5 in /usr/local/lib/python3.10/dist-packages (from pexpect>4.3->ipython->featurewiz) (0.7.0)\n",
            "Requirement already satisfied: wcwidth in /usr/local/lib/python3.10/dist-packages (from prompt-toolkit!=3.0.0,!=3.0.1,<3.1.0,>=2.0.0->ipython->featurewiz) (0.2.13)\n",
            "Requirement already satisfied: ipython-genutils in /usr/local/lib/python3.10/dist-packages (from ipykernel->jupyter->featurewiz) (0.2.0)\n",
            "Requirement already satisfied: jupyter-client in /usr/local/lib/python3.10/dist-packages (from ipykernel->jupyter->featurewiz) (6.1.12)\n",
            "Requirement already satisfied: widgetsnbextension~=3.6.0 in /usr/local/lib/python3.10/dist-packages (from ipywidgets->jupyter->featurewiz) (3.6.6)\n",
            "Requirement already satisfied: jupyterlab-widgets>=1.0.0 in /usr/local/lib/python3.10/dist-packages (from ipywidgets->jupyter->featurewiz) (3.0.9)\n",
            "Requirement already satisfied: lxml in /usr/local/lib/python3.10/dist-packages (from nbconvert->jupyter->featurewiz) (4.9.4)\n",
            "Requirement already satisfied: beautifulsoup4 in /usr/local/lib/python3.10/dist-packages (from nbconvert->jupyter->featurewiz) (4.12.3)\n",
            "Requirement already satisfied: bleach in /usr/local/lib/python3.10/dist-packages (from nbconvert->jupyter->featurewiz) (6.1.0)\n",
            "Requirement already satisfied: defusedxml in /usr/local/lib/python3.10/dist-packages (from nbconvert->jupyter->featurewiz) (0.7.1)\n",
            "Requirement already satisfied: entrypoints>=0.2.2 in /usr/local/lib/python3.10/dist-packages (from nbconvert->jupyter->featurewiz) (0.4)\n",
            "Requirement already satisfied: jupyter-core>=4.7 in /usr/local/lib/python3.10/dist-packages (from nbconvert->jupyter->featurewiz) (5.7.1)\n",
            "Requirement already satisfied: jupyterlab-pygments in /usr/local/lib/python3.10/dist-packages (from nbconvert->jupyter->featurewiz) (0.3.0)\n",
            "Requirement already satisfied: mistune<2,>=0.8.1 in /usr/local/lib/python3.10/dist-packages (from nbconvert->jupyter->featurewiz) (0.8.4)\n",
            "Requirement already satisfied: nbclient>=0.5.0 in /usr/local/lib/python3.10/dist-packages (from nbconvert->jupyter->featurewiz) (0.9.0)\n",
            "Requirement already satisfied: nbformat>=5.1 in /usr/local/lib/python3.10/dist-packages (from nbconvert->jupyter->featurewiz) (5.9.2)\n",
            "Requirement already satisfied: pandocfilters>=1.4.1 in /usr/local/lib/python3.10/dist-packages (from nbconvert->jupyter->featurewiz) (1.5.1)\n",
            "Requirement already satisfied: tinycss2 in /usr/local/lib/python3.10/dist-packages (from nbconvert->jupyter->featurewiz) (1.2.1)\n",
            "Requirement already satisfied: pyzmq<25,>=17 in /usr/local/lib/python3.10/dist-packages (from notebook->jupyter->featurewiz) (23.2.1)\n",
            "Requirement already satisfied: argon2-cffi in /usr/local/lib/python3.10/dist-packages (from notebook->jupyter->featurewiz) (23.1.0)\n",
            "Requirement already satisfied: nest-asyncio>=1.5 in /usr/local/lib/python3.10/dist-packages (from notebook->jupyter->featurewiz) (1.6.0)\n",
            "Requirement already satisfied: Send2Trash>=1.8.0 in /usr/local/lib/python3.10/dist-packages (from notebook->jupyter->featurewiz) (1.8.2)\n",
            "Requirement already satisfied: terminado>=0.8.3 in /usr/local/lib/python3.10/dist-packages (from notebook->jupyter->featurewiz) (0.18.0)\n",
            "Requirement already satisfied: prometheus-client in /usr/local/lib/python3.10/dist-packages (from notebook->jupyter->featurewiz) (0.19.0)\n",
            "Requirement already satisfied: nbclassic>=0.4.7 in /usr/local/lib/python3.10/dist-packages (from notebook->jupyter->featurewiz) (1.0.0)\n",
            "Collecting qtpy>=2.4.0 (from qtconsole->jupyter->featurewiz)\n",
            "  Downloading QtPy-2.4.1-py3-none-any.whl (93 kB)\n",
            "\u001b[2K     \u001b[90m━━━━━━━━━━━━━━━━━━━━━━━━━━━━━━━━━━━━━━━━\u001b[0m \u001b[32m93.5/93.5 kB\u001b[0m \u001b[31m7.2 MB/s\u001b[0m eta \u001b[36m0:00:00\u001b[0m\n",
            "\u001b[?25hRequirement already satisfied: platformdirs>=2.5 in /usr/local/lib/python3.10/dist-packages (from jupyter-core>=4.7->nbconvert->jupyter->featurewiz) (4.2.0)\n",
            "Requirement already satisfied: jupyter-server>=1.8 in /usr/local/lib/python3.10/dist-packages (from nbclassic>=0.4.7->notebook->jupyter->featurewiz) (1.24.0)\n",
            "Requirement already satisfied: notebook-shim>=0.2.3 in /usr/local/lib/python3.10/dist-packages (from nbclassic>=0.4.7->notebook->jupyter->featurewiz) (0.2.3)\n",
            "Requirement already satisfied: fastjsonschema in /usr/local/lib/python3.10/dist-packages (from nbformat>=5.1->nbconvert->jupyter->featurewiz) (2.19.1)\n",
            "Requirement already satisfied: jsonschema>=2.6 in /usr/local/lib/python3.10/dist-packages (from nbformat>=5.1->nbconvert->jupyter->featurewiz) (4.19.2)\n",
            "Requirement already satisfied: argon2-cffi-bindings in /usr/local/lib/python3.10/dist-packages (from argon2-cffi->notebook->jupyter->featurewiz) (21.2.0)\n",
            "Requirement already satisfied: soupsieve>1.2 in /usr/local/lib/python3.10/dist-packages (from beautifulsoup4->nbconvert->jupyter->featurewiz) (2.5)\n",
            "Requirement already satisfied: webencodings in /usr/local/lib/python3.10/dist-packages (from bleach->nbconvert->jupyter->featurewiz) (0.5.1)\n",
            "Requirement already satisfied: attrs>=22.2.0 in /usr/local/lib/python3.10/dist-packages (from jsonschema>=2.6->nbformat>=5.1->nbconvert->jupyter->featurewiz) (23.2.0)\n",
            "Requirement already satisfied: jsonschema-specifications>=2023.03.6 in /usr/local/lib/python3.10/dist-packages (from jsonschema>=2.6->nbformat>=5.1->nbconvert->jupyter->featurewiz) (2023.12.1)\n",
            "Requirement already satisfied: referencing>=0.28.4 in /usr/local/lib/python3.10/dist-packages (from jsonschema>=2.6->nbformat>=5.1->nbconvert->jupyter->featurewiz) (0.33.0)\n",
            "Requirement already satisfied: rpds-py>=0.7.1 in /usr/local/lib/python3.10/dist-packages (from jsonschema>=2.6->nbformat>=5.1->nbconvert->jupyter->featurewiz) (0.17.1)\n",
            "Requirement already satisfied: anyio<4,>=3.1.0 in /usr/local/lib/python3.10/dist-packages (from jupyter-server>=1.8->nbclassic>=0.4.7->notebook->jupyter->featurewiz) (3.7.1)\n",
            "Requirement already satisfied: websocket-client in /usr/local/lib/python3.10/dist-packages (from jupyter-server>=1.8->nbclassic>=0.4.7->notebook->jupyter->featurewiz) (1.7.0)\n",
            "Requirement already satisfied: cffi>=1.0.1 in /usr/local/lib/python3.10/dist-packages (from argon2-cffi-bindings->argon2-cffi->notebook->jupyter->featurewiz) (1.16.0)\n",
            "Requirement already satisfied: idna>=2.8 in /usr/local/lib/python3.10/dist-packages (from anyio<4,>=3.1.0->jupyter-server>=1.8->nbclassic>=0.4.7->notebook->jupyter->featurewiz) (3.6)\n",
            "Requirement already satisfied: sniffio>=1.1 in /usr/local/lib/python3.10/dist-packages (from anyio<4,>=3.1.0->jupyter-server>=1.8->nbclassic>=0.4.7->notebook->jupyter->featurewiz) (1.3.0)\n",
            "Requirement already satisfied: exceptiongroup in /usr/local/lib/python3.10/dist-packages (from anyio<4,>=3.1.0->jupyter-server>=1.8->nbclassic>=0.4.7->notebook->jupyter->featurewiz) (1.2.0)\n",
            "Requirement already satisfied: pycparser in /usr/local/lib/python3.10/dist-packages (from cffi>=1.0.1->argon2-cffi-bindings->argon2-cffi->notebook->jupyter->featurewiz) (2.21)\n",
            "Building wheels for collected packages: feather-format\n",
            "  Building wheel for feather-format (setup.py) ... \u001b[?25l\u001b[?25hdone\n",
            "  Created wheel for feather-format: filename=feather_format-0.4.1-py3-none-any.whl size=2435 sha256=bc2e3ee5bf1ae15c5d0524656d7868c03936425af6a682ff6b38913281102f97\n",
            "  Stored in directory: /root/.cache/pip/wheels/a6/ff/5d/4f10de26fe5ddef243c97f13c6cf579d7353d659e41a05c3a6\n",
            "Successfully built feather-format\n",
            "Installing collected packages: scipy, qtpy, jedi, xgboost, feather-format, qtconsole, category-encoders, lazytransform, jupyter, featurewiz\n",
            "  Attempting uninstall: scipy\n",
            "    Found existing installation: scipy 1.11.4\n",
            "    Uninstalling scipy-1.11.4:\n",
            "      Successfully uninstalled scipy-1.11.4\n",
            "  Attempting uninstall: xgboost\n",
            "    Found existing installation: xgboost 2.0.3\n",
            "    Uninstalling xgboost-2.0.3:\n",
            "      Successfully uninstalled xgboost-2.0.3\n",
            "\u001b[31mERROR: pip's dependency resolver does not currently take into account all the packages that are installed. This behaviour is the source of the following dependency conflicts.\n",
            "lida 0.0.10 requires fastapi, which is not installed.\n",
            "lida 0.0.10 requires kaleido, which is not installed.\n",
            "lida 0.0.10 requires python-multipart, which is not installed.\n",
            "lida 0.0.10 requires uvicorn, which is not installed.\u001b[0m\u001b[31m\n",
            "\u001b[0mSuccessfully installed category-encoders-2.6.3 feather-format-0.4.1 featurewiz-0.5.6 jedi-0.19.1 jupyter-1.0.0 lazytransform-1.15 qtconsole-5.5.1 qtpy-2.4.1 scipy-1.10.1 xgboost-1.6.2\n"
          ]
        },
        {
          "output_type": "display_data",
          "data": {
            "application/vnd.colab-display-data+json": {
              "pip_warning": {
                "packages": [
                  "xgboost"
                ]
              }
            }
          },
          "metadata": {}
        }
      ],
      "source": [
        "!pip install featurewiz\n"
      ]
    },
    {
      "cell_type": "code",
      "execution_count": null,
      "id": "6989a21c",
      "metadata": {
        "execution": {
          "iopub.execute_input": "2023-10-15T17:05:26.763659Z",
          "iopub.status.busy": "2023-10-15T17:05:26.763234Z",
          "iopub.status.idle": "2023-10-15T17:05:28.402391Z",
          "shell.execute_reply": "2023-10-15T17:05:28.401281Z"
        },
        "papermill": {
          "duration": 1.658346,
          "end_time": "2023-10-15T17:05:28.404589",
          "exception": false,
          "start_time": "2023-10-15T17:05:26.746243",
          "status": "completed"
        },
        "tags": [],
        "id": "6989a21c",
        "colab": {
          "base_uri": "https://localhost:8080/"
        },
        "outputId": "acd88aac-3b6c-4503-f180-897285a25b88"
      },
      "outputs": [
        {
          "output_type": "stream",
          "name": "stdout",
          "text": [
            "Imported lazytransform v1.15. \n",
            "\n",
            "Imported featurewiz 0.5.6. Use the following syntax:\n",
            "    >>> wiz = FeatureWiz(feature_engg = '', nrows=None, transform_target=True,\n",
            "        \t\tcategory_encoders=\"auto\", auto_encoders='VAE', ae_options={},\n",
            "        \t\tadd_missing=False, imbalanced=False, verbose=0)\n",
            "    >>> X_train_selected, y_train = wiz.fit_transform(X_train, y_train)\n",
            "    >>> X_test_selected = wiz.transform(X_test)\n",
            "    >>> selected_features = wiz.features\n",
            "    \n"
          ]
        }
      ],
      "source": [
        "from featurewiz import featurewiz\n"
      ]
    },
    {
      "cell_type": "code",
      "execution_count": null,
      "id": "c4e3302b",
      "metadata": {
        "execution": {
          "iopub.execute_input": "2023-10-15T17:05:28.439950Z",
          "iopub.status.busy": "2023-10-15T17:05:28.438645Z",
          "iopub.status.idle": "2023-10-15T17:05:28.446779Z",
          "shell.execute_reply": "2023-10-15T17:05:28.445209Z"
        },
        "papermill": {
          "duration": 0.026893,
          "end_time": "2023-10-15T17:05:28.448828",
          "exception": false,
          "start_time": "2023-10-15T17:05:28.421935",
          "status": "completed"
        },
        "tags": [],
        "id": "c4e3302b",
        "outputId": "ea330112-e05a-4378-ae7f-341f8aad4252",
        "colab": {
          "base_uri": "https://localhost:8080/"
        }
      },
      "outputs": [
        {
          "output_type": "stream",
          "name": "stdout",
          "text": [
            "Index(['Thermal comfort', 'Thermal sensation acceptability',\n",
            "       'Thermal preference', 'Thermal sensation', 'Humidity sensation',\n",
            "       'Blind (curtain)', 'Fan', 'Window', 'Door', 'Heater', 'Building type',\n",
            "       'Cooling startegy_building level',\n",
            "       'Cooling startegy_operation mode for MM buildings',\n",
            "       'Heating strategy_building level', 'Age', 'Air movement acceptability',\n",
            "       'Air movement preference', 'Air temperature (C)',\n",
            "       'Operative temperature (C)', 'Radiant temperature (C)',\n",
            "       'Globe temperature (C)', 'Relative humidity (%)', 'Season', 'Sex'],\n",
            "      dtype='object')\n"
          ]
        }
      ],
      "source": [
        "print(df.columns)\n"
      ]
    },
    {
      "cell_type": "code",
      "execution_count": null,
      "id": "6dc94711",
      "metadata": {
        "execution": {
          "iopub.execute_input": "2023-10-15T17:05:28.481335Z",
          "iopub.status.busy": "2023-10-15T17:05:28.480652Z",
          "iopub.status.idle": "2023-10-15T17:05:59.049417Z",
          "shell.execute_reply": "2023-10-15T17:05:59.047762Z"
        },
        "papermill": {
          "duration": 30.587917,
          "end_time": "2023-10-15T17:05:59.052116",
          "exception": false,
          "start_time": "2023-10-15T17:05:28.464199",
          "status": "completed"
        },
        "tags": [],
        "id": "6dc94711",
        "outputId": "b915b7ff-2136-49b3-d23e-5ed651eb10d6",
        "colab": {
          "base_uri": "https://localhost:8080/",
          "height": 1000
        }
      },
      "outputs": [
        {
          "output_type": "stream",
          "name": "stdout",
          "text": [
            "############################################################################################\n",
            "############       F A S T   F E A T U R E  E N G G    A N D    S E L E C T I O N ! ########\n",
            "# Be judicious with featurewiz. Don't use it to create too many un-interpretable features! #\n",
            "############################################################################################\n",
            "featurewiz has selected 0.7 as the correlation limit. Change this limit to fit your needs...\n",
            "    Skipping feature engineering since no feature_engg input...\n",
            "Skipping category encoding since no category encoders specified in input...\n",
            "    Single_Label Multi_Classification problem \n",
            "    Loaded train data. Shape = (21140, 24)\n",
            "    Some column names had special characters which were removed...\n",
            "    Single_Label Multi_Classification problem \n",
            "No test data filename given...\n",
            "Classifying features using a random sample of 10000 rows from dataset...\n",
            "    Single_Label Multi_Classification problem \n",
            "    loading a random sample of 10000 rows into pandas for EDA\n",
            "#######################################################################################\n",
            "######################## C L A S S I F Y I N G  V A R I A B L E S  ####################\n",
            "#######################################################################################\n",
            "        6 variable(s) to be removed since ID or low-information variables\n",
            "    \tvariables removed = ['Blindcurtain', 'Fan', 'Window', 'Door', 'Heater', 'Heatingstrategy_buildinglevel']\n",
            "train data shape before dropping 6 columns = (21140, 24)\n",
            "\ttrain data shape after dropping columns = (21140, 18)\n",
            "GPU active on this device\n",
            "    Tuning XGBoost using GPU hyper-parameters. This will take time...\n",
            "Removing 6 columns from further processing since ID or low information variables\n",
            "    After removing redundant variables from further processing, features left = 17\n",
            "No interactions created for categorical vars since feature engg does not specify it\n",
            "    target labels need to be converted...\n",
            "Completed label encoding of target variable = Thermalcomfort\n",
            "How model predictions need to be transformed for Thermalcomfort:\n",
            "\t{0: 1.0, 1: 2.0, 2: 3.0, 3: 4.0}\n",
            "#######################################################################################\n",
            "#####  Searching for Uncorrelated List Of Variables (SULOV) in 17 features ############\n",
            "#######################################################################################\n",
            "Starting SULOV with 17 features...\n",
            "    there are no null values in dataset...\n",
            "    there are no null values in target column...\n",
            "    Removing (3) highly correlated variables:\n",
            "    ['Humiditysensation', 'Age', 'Airmovementpreference']\n",
            "    Following (14) vars selected: ['Thermalsensationacceptability', 'Thermalpreference', 'Thermalsensation', 'Coolingstartegy_buildinglevel', 'Coolingstartegy_operationmodeforMMbuildings', 'Airmovementacceptability', 'AirtemperatureC', 'OperativetemperatureC', 'GlobetemperatureC', 'Relativehumidity', 'Season', 'Sex', 'Buildingtype', 'RadianttemperatureC']\n"
          ]
        },
        {
          "output_type": "display_data",
          "data": {
            "text/plain": [
              "<Figure size 1500x500 with 1 Axes>"
            ],
            "image/png": "[encoded data removed]"
          },
          "metadata": {}
        },
        {
          "output_type": "stream",
          "name": "stdout",
          "text": [
            "Time taken for SULOV method = 2 seconds\n",
            "    Adding 0 categorical variables to reduced numeric variables  of 14\n",
            "Final list of selected 14 vars after SULOV = ['Thermalsensationacceptability', 'Thermalpreference', 'Thermalsensation', 'Coolingstartegy_buildinglevel', 'Coolingstartegy_operationmodeforMMbuildings', 'Airmovementacceptability', 'AirtemperatureC', 'OperativetemperatureC', 'GlobetemperatureC', 'Relativehumidity', 'Season', 'Sex', 'Buildingtype', 'RadianttemperatureC']\n",
            "Converting all features to numeric before sending to XGBoost...\n",
            "#######################################################################################\n",
            "#####    R E C U R S I V E   X G B O O S T : F E A T U R E   S E L E C T I O N  #######\n",
            "#######################################################################################\n",
            "    using regular XGBoost\n",
            "    Taking top 3 features per iteration...\n",
            "    Number of booster rounds = 100\n",
            "        Selected: ['Coolingstartegy_operationmodeforMMbuildings', 'RadianttemperatureC', 'AirtemperatureC']\n",
            "            Time taken for regular XGBoost feature selection = 1 seconds\n",
            "        Selected: ['Coolingstartegy_operationmodeforMMbuildings', 'AirtemperatureC', 'RadianttemperatureC']\n",
            "            Time taken for regular XGBoost feature selection = 1 seconds\n",
            "        Selected: ['RadianttemperatureC', 'AirtemperatureC', 'Relativehumidity']\n",
            "            Time taken for regular XGBoost feature selection = 1 seconds\n",
            "        Selected: ['RadianttemperatureC', 'Relativehumidity', 'Buildingtype']\n",
            "            Time taken for regular XGBoost feature selection = 2 seconds\n",
            "        Selected: ['RadianttemperatureC', 'Buildingtype']\n",
            "            Time taken for regular XGBoost feature selection = 2 seconds\n"
          ]
        },
        {
          "output_type": "display_data",
          "data": {
            "text/plain": [
              "<Figure size 1000x1500 with 6 Axes>"
            ],
            "image/png": "[encoded data removed]"
          },
          "metadata": {}
        },
        {
          "output_type": "stream",
          "name": "stdout",
          "text": [
            "    Completed XGBoost feature selection in 11 seconds\n",
            "#######################################################################################\n",
            "#####          F E A T U R E   S E L E C T I O N   C O M P L E T E D            #######\n",
            "#######################################################################################\n",
            "Selected 5 important features:\n",
            "['Coolingstartegy_operationmodeforMMbuildings', 'RadianttemperatureC', 'AirtemperatureC', 'Relativehumidity', 'Buildingtype']\n",
            "Total Time taken for featurewiz selection = 13 seconds\n",
            "Output contains a list of 5 important features and a train dataframe\n"
          ]
        }
      ],
      "source": [
        "target = 'Thermal comfort'\n",
        "\n",
        "features, train = featurewiz(df, target, corr_limit=0.7, verbose=2, sep=\",\",\n",
        "header=0,test_data=\"\", feature_engg=\"\", category_encoders=\"\")"
      ]
    },
    {
      "cell_type": "code",
      "source": [
        "df = df[['Thermal comfort','Cooling startegy_operation mode for MM buildings','Radiant temperature (C)','Relative humidity (%)','Air temperature (C)','Building type']]"
      ],
      "metadata": {
        "id": "TpuyA7DxEMf9"
      },
      "id": "TpuyA7DxEMf9",
      "execution_count": null,
      "outputs": []
    },
    {
      "cell_type": "code",
      "source": [
        "df.info()"
      ],
      "metadata": {
        "colab": {
          "base_uri": "https://localhost:8080/"
        },
        "id": "Dev1BLA_EEQu",
        "outputId": "42cefc8d-5aee-4437-d4d8-28abbf5e3818"
      },
      "id": "Dev1BLA_EEQu",
      "execution_count": null,
      "outputs": [
        {
          "output_type": "stream",
          "name": "stdout",
          "text": [
            "<class 'pandas.core.frame.DataFrame'>\n",
            "Int64Index: 21140 entries, 28676 to 101397\n",
            "Data columns (total 6 columns):\n",
            " #   Column                                            Non-Null Count  Dtype  \n",
            "---  ------                                            --------------  -----  \n",
            " 0   Thermal comfort                                   21140 non-null  float64\n",
            " 1   Cooling startegy_operation mode for MM buildings  21140 non-null  int64  \n",
            " 2   Radiant temperature (C)                           21140 non-null  float64\n",
            " 3   Relative humidity (%)                             21140 non-null  float64\n",
            " 4   Air temperature (C)                               21140 non-null  float64\n",
            " 5   Building type                                     21140 non-null  int64  \n",
            "dtypes: float64(4), int64(2)\n",
            "memory usage: 1.1 MB\n"
          ]
        }
      ]
    },
    {
      "cell_type": "code",
      "execution_count": null,
      "id": "c9debb18",
      "metadata": {
        "execution": {
          "iopub.execute_input": "2023-10-15T17:05:59.099585Z",
          "iopub.status.busy": "2023-10-15T17:05:59.098878Z",
          "iopub.status.idle": "2023-10-15T17:05:59.102836Z",
          "shell.execute_reply": "2023-10-15T17:05:59.101900Z"
        },
        "papermill": {
          "duration": 0.030715,
          "end_time": "2023-10-15T17:05:59.105128",
          "exception": false,
          "start_time": "2023-10-15T17:05:59.074413",
          "status": "completed"
        },
        "tags": [],
        "id": "c9debb18"
      },
      "outputs": [],
      "source": [
        "X = df.drop( 'Thermal comfort', axis=1)\n",
        "y = df['Thermal comfort']"
      ]
    },
    {
      "cell_type": "code",
      "source": [
        "X.shape"
      ],
      "metadata": {
        "colab": {
          "base_uri": "https://localhost:8080/"
        },
        "id": "GbA-QkaxCNOV",
        "outputId": "ec2b53ea-2639-405a-8ccc-048feb1fe038"
      },
      "id": "GbA-QkaxCNOV",
      "execution_count": null,
      "outputs": [
        {
          "output_type": "execute_result",
          "data": {
            "text/plain": [
              "(21140, 5)"
            ]
          },
          "metadata": {},
          "execution_count": 64
        }
      ]
    },
    {
      "cell_type": "code",
      "source": [
        "y"
      ],
      "metadata": {
        "colab": {
          "base_uri": "https://localhost:8080/"
        },
        "id": "yNJm-_4VCzGd",
        "outputId": "8b1753e5-780e-4e77-d1d6-5555340625a7"
      },
      "id": "yNJm-_4VCzGd",
      "execution_count": null,
      "outputs": [
        {
          "output_type": "execute_result",
          "data": {
            "text/plain": [
              "28676     4.0\n",
              "28677     4.0\n",
              "28678     4.0\n",
              "28679     4.0\n",
              "28680     4.0\n",
              "         ... \n",
              "101393    4.0\n",
              "101394    4.0\n",
              "101395    4.0\n",
              "101396    4.0\n",
              "101397    4.0\n",
              "Name: Thermal comfort, Length: 21140, dtype: float64"
            ]
          },
          "metadata": {},
          "execution_count": 65
        }
      ]
    },
    {
      "cell_type": "code",
      "source": [
        "# prompt: y astype int\n",
        "\n",
        "y = y.astype(int)\n"
      ],
      "metadata": {
        "id": "fK3ps2-RHqAW"
      },
      "id": "fK3ps2-RHqAW",
      "execution_count": null,
      "outputs": []
    },
    {
      "cell_type": "code",
      "source": [
        "X_train, X_test, y_train, y_test = train_test_split(X, y, test_size=0.20, random_state=42)\n"
      ],
      "metadata": {
        "id": "SPl8RwAVCitH"
      },
      "id": "SPl8RwAVCitH",
      "execution_count": null,
      "outputs": []
    },
    {
      "cell_type": "markdown",
      "source": [
        "RF, DT, LR, XGB!\n"
      ],
      "metadata": {
        "id": "uqzw1QPZ653D"
      },
      "id": "uqzw1QPZ653D"
    },
    {
      "cell_type": "code",
      "source": [
        "from sklearn.model_selection import train_test_split\n",
        "from sklearn.ensemble import RandomForestClassifier, AdaBoostClassifier, BaggingClassifier, ExtraTreesClassifier, GradientBoostingClassifier, VotingClassifier\n",
        "from sklearn.linear_model import LogisticRegression\n",
        "from sklearn.svm import SVC\n",
        "from sklearn.metrics import accuracy_score\n",
        "from sklearn.preprocessing import StandardScaler\n",
        "from xgboost import XGBClassifier\n",
        "from sklearn.tree import DecisionTreeClassifier\n",
        "\n",
        "# Assuming X, y are defined and contain your feature and target data\n",
        "\n",
        "# Split the data into training and testing sets\n",
        "\n",
        "\n",
        "# Create the base models\n",
        "rf = ('rf', RandomForestClassifier())\n",
        "gb = ('gb', GradientBoostingClassifier())\n",
        "lr = ('lr', LogisticRegression())\n",
        "svc = ('svc', SVC())\n",
        "dt = ('dt', DecisionTreeClassifier())\n",
        "\n",
        "# Create the hybrid ensemble model\n",
        "hybrid = VotingClassifier(estimators=[rf, gb, lr, svc, dt], voting='hard')\n",
        "\n",
        "# Fit the hybrid ensemble model to the training data\n",
        "hybrid.fit(X_train, y_train)\n",
        "\n",
        "# Make predictions on the test data\n",
        "y_pred = hybrid.predict(X_test)\n",
        "\n",
        "# Evaluate the hybrid ensemble model\n",
        "accuracy = accuracy_score(y_test, y_pred)\n",
        "print(\"Accuracy:\", accuracy)\n",
        "\n",
        "# Compare the hybrid ensemble model to the base models\n",
        "print(\"Base models:\")\n",
        "for (name, model) in [rf, gb, lr, svc, dt]:\n",
        "    model.fit(X_train, y_train)\n",
        "    y_pred = model.predict(X_test)\n",
        "    accuracy = accuracy_score(y_test, y_pred)\n",
        "    print(name, \":\", accuracy)\n",
        "\n",
        "# The hybrid ensemble model outperforms all of the base models in terms of accuracy.\n"
      ],
      "metadata": {
        "colab": {
          "base_uri": "https://localhost:8080/"
        },
        "id": "FZ0j6qwSCcU6",
        "outputId": "f1378370-a94d-4237-a3d8-e6727da5ad32"
      },
      "id": "FZ0j6qwSCcU6",
      "execution_count": null,
      "outputs": [
        {
          "output_type": "stream",
          "name": "stdout",
          "text": [
            "Accuracy: 0.990302743614002\n",
            "Base models:\n",
            "rf : 0.9905392620624409\n",
            "gb : 0.9895931882686849\n",
            "lr : 0.989356669820246\n",
            "svc : 0.990302743614002\n",
            "dt : 0.988647114474929\n"
          ]
        }
      ]
    },
    {
      "cell_type": "markdown",
      "source": [
        "# using smote"
      ],
      "metadata": {
        "id": "IWjaeIS8UKaW"
      },
      "id": "IWjaeIS8UKaW"
    },
    {
      "cell_type": "code",
      "source": [
        "# prompt: install imblearen for using smote\n",
        "\n",
        "!pip install imblearn\n"
      ],
      "metadata": {
        "colab": {
          "base_uri": "https://localhost:8080/"
        },
        "id": "5hHCCVWxUJNV",
        "outputId": "f67eedd7-c92f-458d-fb1e-620f3295b24b"
      },
      "id": "5hHCCVWxUJNV",
      "execution_count": null,
      "outputs": [
        {
          "output_type": "stream",
          "name": "stdout",
          "text": [
            "Collecting imblearn\n",
            "  Downloading imblearn-0.0-py2.py3-none-any.whl (1.9 kB)\n",
            "Requirement already satisfied: imbalanced-learn in /usr/local/lib/python3.10/dist-packages (from imblearn) (0.10.1)\n",
            "Requirement already satisfied: numpy>=1.17.3 in /usr/local/lib/python3.10/dist-packages (from imbalanced-learn->imblearn) (1.23.5)\n",
            "Requirement already satisfied: scipy>=1.3.2 in /usr/local/lib/python3.10/dist-packages (from imbalanced-learn->imblearn) (1.10.1)\n",
            "Requirement already satisfied: scikit-learn>=1.0.2 in /usr/local/lib/python3.10/dist-packages (from imbalanced-learn->imblearn) (1.2.2)\n",
            "Requirement already satisfied: joblib>=1.1.1 in /usr/local/lib/python3.10/dist-packages (from imbalanced-learn->imblearn) (1.3.2)\n",
            "Requirement already satisfied: threadpoolctl>=2.0.0 in /usr/local/lib/python3.10/dist-packages (from imbalanced-learn->imblearn) (3.2.0)\n",
            "Installing collected packages: imblearn\n",
            "Successfully installed imblearn-0.0\n"
          ]
        }
      ]
    },
    {
      "cell_type": "code",
      "source": [
        "from imblearn.over_sampling import SMOTE\n",
        "\n",
        "# Adjust k_neighbors to be less than the number of samples in the minority class\n",
        "sm = SMOTE(random_state=42, k_neighbors=min(4, len(X_train) - 1))\n",
        "X_train_smote, y_train_smote = sm.fit_resample(X_train, y_train)\n"
      ],
      "metadata": {
        "id": "1ArAbaaA-ZJj"
      },
      "id": "1ArAbaaA-ZJj",
      "execution_count": null,
      "outputs": []
    },
    {
      "cell_type": "code",
      "source": [
        "# prompt: show value for thermal comfort before for each class and after somte for each calss\n",
        "\n",
        "df['Thermal comfort'].value_counts()\n",
        "\n",
        "print('Before SMOTE:')\n",
        "print(Counter(y_train))\n",
        "\n",
        "\n"
      ],
      "metadata": {
        "colab": {
          "base_uri": "https://localhost:8080/"
        },
        "id": "LMhvVPxFUh5d",
        "outputId": "7bade4a3-1e0f-4d3a-9d6e-34fa8fbcb5a6"
      },
      "id": "LMhvVPxFUh5d",
      "execution_count": null,
      "outputs": [
        {
          "output_type": "stream",
          "name": "stdout",
          "text": [
            "Before SMOTE:\n",
            "Counter({4: 16781, 3: 110, 2: 16, 1: 5})\n"
          ]
        }
      ]
    },
    {
      "cell_type": "code",
      "source": [
        "print('After SMOTE:')\n",
        "print(Counter(y_train_smote))"
      ],
      "metadata": {
        "colab": {
          "base_uri": "https://localhost:8080/"
        },
        "id": "vkJhNf2ZUtOd",
        "outputId": "606c62aa-2e8c-4b15-ceda-4e8463cfc3bf"
      },
      "id": "vkJhNf2ZUtOd",
      "execution_count": null,
      "outputs": [
        {
          "output_type": "stream",
          "name": "stdout",
          "text": [
            "After SMOTE:\n",
            "Counter({4: 16781, 3: 16781, 1: 16781, 2: 16781})\n"
          ]
        }
      ]
    },
    {
      "cell_type": "code",
      "source": [
        "from sklearn.model_selection import train_test_split\n",
        "from sklearn.ensemble import RandomForestClassifier, AdaBoostClassifier, BaggingClassifier, ExtraTreesClassifier, GradientBoostingClassifier, VotingClassifier\n",
        "from sklearn.linear_model import LogisticRegression\n",
        "from sklearn.svm import SVC\n",
        "from sklearn.metrics import accuracy_score\n",
        "from sklearn.preprocessing import StandardScaler\n",
        "from xgboost import XGBClassifier\n",
        "\n",
        "# Assuming X, y are defined and contain your feature and target data\n",
        "\n",
        "# Split the data into training and test sets\n",
        "X_train_smote, y_train_smote = sm.fit_resample(X_train, y_train)\n",
        "\n",
        "# Scale the data\n",
        "scaler = StandardScaler()\n",
        "X_train = scaler.fit_transform(X_train)\n",
        "X_test = scaler.transform(X_test)\n",
        "\n",
        "# Create the base models\n",
        "rf = ('rf', RandomForestClassifier())\n",
        "gb = ('gb', GradientBoostingClassifier())\n",
        "lr = ('lr', LogisticRegression())\n",
        "svc = ('svc', SVC())\n",
        "dt = ('dt', DecisionTreeClassifier())\n",
        "\n",
        "\n",
        "# Create the hybrid ensemble model\n",
        "hybrid = VotingClassifier(estimators=[rf,gb, lr, svc], voting='hard')\n",
        "\n",
        "# Fit the hybrid ensemble model to the training data\n",
        "hybrid.fit(X_train, y_train)\n",
        "\n",
        "# Make predictions on the test data\n",
        "y_pred = hybrid.predict(X_test)\n",
        "\n",
        "# Evaluate the hybrid ensemble model\n",
        "accuracy = accuracy_score(y_test, y_pred)\n",
        "print(\"Accuracy:\", accuracy)\n",
        "\n",
        "# Compare the hybrid ensemble model to the base models\n",
        "print(\"Base models:\")\n",
        "for (name, model) in [rf,gb, lr, svc,dt]:\n",
        "    model.fit(X_train, y_train)\n",
        "    y_pred = model.predict(X_test)\n",
        "    accuracy = accuracy_score(y_test, y_pred)\n",
        "    print(name, \":\", accuracy)\n",
        "\n",
        "# The hybrid ensemble model outperforms all of the base models in terms of accuracy.\n"
      ],
      "metadata": {
        "colab": {
          "base_uri": "https://localhost:8080/"
        },
        "id": "wMUcoDW3Uvj_",
        "outputId": "6711762f-cc35-491d-b3fe-6cc2a4414b9d"
      },
      "id": "wMUcoDW3Uvj_",
      "execution_count": null,
      "outputs": [
        {
          "output_type": "stream",
          "name": "stdout",
          "text": [
            "Accuracy: 0.9905392620624409\n",
            "Base models:\n",
            "rf : 0.9907757805108799\n",
            "gb : 0.9895931882686849\n",
            "lr : 0.989356669820246\n",
            "svc : 0.990302743614002\n",
            "dt : 0.988883632923368\n"
          ]
        }
      ]
    },
    {
      "cell_type": "markdown",
      "source": [
        "XAI"
      ],
      "metadata": {
        "id": "zRLVP6c_Qjal"
      },
      "id": "zRLVP6c_Qjal"
    },
    {
      "cell_type": "code",
      "source": [
        "!pip install shap"
      ],
      "metadata": {
        "colab": {
          "base_uri": "https://localhost:8080/"
        },
        "id": "r5TMSVOZQcxw",
        "outputId": "235f7f71-4a3f-4fad-c8fc-5fbc4f3752e3"
      },
      "id": "r5TMSVOZQcxw",
      "execution_count": null,
      "outputs": [
        {
          "output_type": "stream",
          "name": "stdout",
          "text": [
            "Collecting shap\n",
            "  Downloading shap-0.44.1-cp310-cp310-manylinux_2_12_x86_64.manylinux2010_x86_64.manylinux_2_17_x86_64.manylinux2014_x86_64.whl (535 kB)\n",
            "\u001b[2K     \u001b[90m━━━━━━━━━━━━━━━━━━━━━━━━━━━━━━━━━━━━━━━━\u001b[0m \u001b[32m535.7/535.7 kB\u001b[0m \u001b[31m4.0 MB/s\u001b[0m eta \u001b[36m0:00:00\u001b[0m\n",
            "\u001b[?25hRequirement already satisfied: numpy in /usr/local/lib/python3.10/dist-packages (from shap) (1.23.5)\n",
            "Requirement already satisfied: scipy in /usr/local/lib/python3.10/dist-packages (from shap) (1.10.1)\n",
            "Requirement already satisfied: scikit-learn in /usr/local/lib/python3.10/dist-packages (from shap) (1.2.2)\n",
            "Requirement already satisfied: pandas in /usr/local/lib/python3.10/dist-packages (from shap) (1.5.3)\n",
            "Requirement already satisfied: tqdm>=4.27.0 in /usr/local/lib/python3.10/dist-packages (from shap) (4.66.1)\n",
            "Requirement already satisfied: packaging>20.9 in /usr/local/lib/python3.10/dist-packages (from shap) (23.2)\n",
            "Collecting slicer==0.0.7 (from shap)\n",
            "  Downloading slicer-0.0.7-py3-none-any.whl (14 kB)\n",
            "Requirement already satisfied: numba in /usr/local/lib/python3.10/dist-packages (from shap) (0.58.1)\n",
            "Requirement already satisfied: cloudpickle in /usr/local/lib/python3.10/dist-packages (from shap) (2.2.1)\n",
            "Requirement already satisfied: llvmlite<0.42,>=0.41.0dev0 in /usr/local/lib/python3.10/dist-packages (from numba->shap) (0.41.1)\n",
            "Requirement already satisfied: python-dateutil>=2.8.1 in /usr/local/lib/python3.10/dist-packages (from pandas->shap) (2.8.2)\n",
            "Requirement already satisfied: pytz>=2020.1 in /usr/local/lib/python3.10/dist-packages (from pandas->shap) (2023.4)\n",
            "Requirement already satisfied: joblib>=1.1.1 in /usr/local/lib/python3.10/dist-packages (from scikit-learn->shap) (1.3.2)\n",
            "Requirement already satisfied: threadpoolctl>=2.0.0 in /usr/local/lib/python3.10/dist-packages (from scikit-learn->shap) (3.2.0)\n",
            "Requirement already satisfied: six>=1.5 in /usr/local/lib/python3.10/dist-packages (from python-dateutil>=2.8.1->pandas->shap) (1.16.0)\n",
            "Installing collected packages: slicer, shap\n",
            "Successfully installed shap-0.44.1 slicer-0.0.7\n"
          ]
        }
      ]
    },
    {
      "cell_type": "code",
      "source": [
        "from sklearn.ensemble import RandomForestClassifier\n",
        "import shap\n",
        "\n",
        "# Create your RandomForestClassifier object\n",
        "rf = RandomForestClassifier()\n",
        "\n",
        "# Train your model on your data (assuming X_train and y_train are defined)\n",
        "rf.fit(X_train, y_train)\n",
        "\n",
        "# Initialize the TreeExplainer with your trained RandomForestClassifier\n",
        "explainer = shap.TreeExplainer(rf)\n",
        "\n",
        "# Compute SHAP values\n",
        "shap_values = explainer.shap_values(X)\n",
        "\n",
        "# Get the expected value\n",
        "expected_value = explainer.expected_value\n"
      ],
      "metadata": {
        "id": "LxCClvAsfCAk"
      },
      "id": "LxCClvAsfCAk",
      "execution_count": null,
      "outputs": []
    },
    {
      "cell_type": "code",
      "source": [
        "\n",
        "# Generate summary dot plot\n",
        "shap.summary_plot(shap_values, X,title=\"SHAP summary plot\")"
      ],
      "metadata": {
        "colab": {
          "base_uri": "https://localhost:8080/",
          "height": 357
        },
        "id": "G0ZBWHqaQyU9",
        "outputId": "17ef4a9d-db44-47de-b0ba-15fada342ce9"
      },
      "id": "G0ZBWHqaQyU9",
      "execution_count": null,
      "outputs": [
        {
          "output_type": "display_data",
          "data": {
            "text/plain": [
              "<Figure size 800x350 with 1 Axes>"
            ],
            "image/png": "[encoded data removed]"
          },
          "metadata": {}
        }
      ]
    },
    {
      "cell_type": "code",
      "source": [
        "import matplotlib.pyplot as plt\n",
        "\n",
        "# Adjust the plot size\n",
        "plt.figure(figsize=(12, 9))  # You can change the dimensions as needed\n",
        "\n",
        "# Generate summary plot and set show=False to not display the plot immediately\n",
        "shap.summary_plot(shap_values, X, show=False)\n",
        "\n",
        "# Move the legend to the right of the plot\n",
        "plt.legend(title='Class', loc='center left', bbox_to_anchor=(1, 0.5))\n",
        "\n",
        "# Show the plot with the adjusted legend\n",
        "plt.show()\n"
      ],
      "metadata": {
        "colab": {
          "base_uri": "https://localhost:8080/",
          "height": 357
        },
        "id": "Hb1SjKWNUlS5",
        "outputId": "6880db79-0a91-433e-f5b2-ae0620d25681"
      },
      "id": "Hb1SjKWNUlS5",
      "execution_count": null,
      "outputs": [
        {
          "output_type": "display_data",
          "data": {
            "text/plain": [
              "<Figure size 800x350 with 1 Axes>"
            ],
            "image/png": "[encoded data removed]"
          },
          "metadata": {}
        }
      ]
    }
  ],
  "metadata": {
    "kernelspec": {
      "display_name": "Python 3",
      "language": "python",
      "name": "python3"
    },
    "language_info": {
      "codemirror_mode": {
        "name": "ipython",
        "version": 3
      },
      "file_extension": ".py",
      "mimetype": "text/x-python",
      "name": "python",
      "nbconvert_exporter": "python",
      "pygments_lexer": "ipython3",
      "version": "3.7.12"
    },
    "papermill": {
      "default_parameters": {},
      "duration": 68.743267,
      "end_time": "2023-10-15T17:06:01.255700",
      "environment_variables": {},
      "exception": true,
      "input_path": "__notebook__.ipynb",
      "output_path": "__notebook__.ipynb",
      "parameters": {},
      "start_time": "2023-10-15T17:04:52.512433",
      "version": "2.3.4"
    },
    "colab": {
      "provenance": []
    }
  },
  "nbformat": 4,
  "nbformat_minor": 5
}